{
 "cells": [
  {
   "cell_type": "markdown",
   "metadata": {},
   "source": [
    "# Task - Land Classification\n",
    "\n",
    "## Column Description:\n",
    "- Numeric columns *X1 to X6 and I1 to I6* define characteristics about the land piece\n",
    "- *target *is the output categorical column which needs to be found for the test dataset\n",
    "    * 1 = Green Land\n",
    "    * 2 = Water\n",
    "    * 3 = Barren Land\n",
    "    * 4 = Built-up \n",
    "\n",
    "---------------------------------------------------------------------------------------------------------"
   ]
  },
  {
   "cell_type": "code",
   "execution_count": 3,
   "metadata": {},
   "outputs": [],
   "source": [
    "import numpy as np\n",
    "import pandas as pd\n",
    "import matplotlib.pyplot as plt\n",
    "import seaborn as sns"
   ]
  },
  {
   "cell_type": "markdown",
   "metadata": {},
   "source": [
    "## Input the dataset"
   ]
  },
  {
   "cell_type": "code",
   "execution_count": 246,
   "metadata": {},
   "outputs": [],
   "source": [
    "train = pd.read_csv('socialcops_challenge/land_train.csv')"
   ]
  },
  {
   "cell_type": "code",
   "execution_count": 5,
   "metadata": {},
   "outputs": [
    {
     "data": {
      "text/html": [
       "<div>\n",
       "<style>\n",
       "    .dataframe thead tr:only-child th {\n",
       "        text-align: right;\n",
       "    }\n",
       "\n",
       "    .dataframe thead th {\n",
       "        text-align: left;\n",
       "    }\n",
       "\n",
       "    .dataframe tbody tr th {\n",
       "        vertical-align: top;\n",
       "    }\n",
       "</style>\n",
       "<table border=\"1\" class=\"dataframe\">\n",
       "  <thead>\n",
       "    <tr style=\"text-align: right;\">\n",
       "      <th></th>\n",
       "      <th>X1</th>\n",
       "      <th>X2</th>\n",
       "      <th>X3</th>\n",
       "      <th>X4</th>\n",
       "      <th>X5</th>\n",
       "      <th>X6</th>\n",
       "      <th>I1</th>\n",
       "      <th>I2</th>\n",
       "      <th>I3</th>\n",
       "      <th>I4</th>\n",
       "      <th>I5</th>\n",
       "      <th>I6</th>\n",
       "      <th>target</th>\n",
       "    </tr>\n",
       "  </thead>\n",
       "  <tbody>\n",
       "    <tr>\n",
       "      <th>0</th>\n",
       "      <td>323</td>\n",
       "      <td>229</td>\n",
       "      <td>120</td>\n",
       "      <td>517</td>\n",
       "      <td>209</td>\n",
       "      <td>115</td>\n",
       "      <td>0.623234</td>\n",
       "      <td>-1.047476</td>\n",
       "      <td>1.473405</td>\n",
       "      <td>0.380537</td>\n",
       "      <td>-0.021277</td>\n",
       "      <td>0.424242</td>\n",
       "      <td>1</td>\n",
       "    </tr>\n",
       "    <tr>\n",
       "      <th>1</th>\n",
       "      <td>335</td>\n",
       "      <td>220</td>\n",
       "      <td>109</td>\n",
       "      <td>387</td>\n",
       "      <td>149</td>\n",
       "      <td>89</td>\n",
       "      <td>0.560484</td>\n",
       "      <td>-1.004514</td>\n",
       "      <td>1.200777</td>\n",
       "      <td>0.324813</td>\n",
       "      <td>-0.101010</td>\n",
       "      <td>0.444030</td>\n",
       "      <td>1</td>\n",
       "    </tr>\n",
       "    <tr>\n",
       "      <th>2</th>\n",
       "      <td>255</td>\n",
       "      <td>150</td>\n",
       "      <td>52</td>\n",
       "      <td>184</td>\n",
       "      <td>72</td>\n",
       "      <td>45</td>\n",
       "      <td>0.559322</td>\n",
       "      <td>-0.996822</td>\n",
       "      <td>0.825000</td>\n",
       "      <td>0.300728</td>\n",
       "      <td>-0.072165</td>\n",
       "      <td>0.437500</td>\n",
       "      <td>1</td>\n",
       "    </tr>\n",
       "    <tr>\n",
       "      <th>3</th>\n",
       "      <td>254</td>\n",
       "      <td>182</td>\n",
       "      <td>73</td>\n",
       "      <td>413</td>\n",
       "      <td>156</td>\n",
       "      <td>84</td>\n",
       "      <td>0.699588</td>\n",
       "      <td>-1.151258</td>\n",
       "      <td>1.425354</td>\n",
       "      <td>0.436268</td>\n",
       "      <td>0.070064</td>\n",
       "      <td>0.451670</td>\n",
       "      <td>1</td>\n",
       "    </tr>\n",
       "    <tr>\n",
       "      <th>4</th>\n",
       "      <td>257</td>\n",
       "      <td>219</td>\n",
       "      <td>100</td>\n",
       "      <td>722</td>\n",
       "      <td>254</td>\n",
       "      <td>130</td>\n",
       "      <td>0.756691</td>\n",
       "      <td>-1.236199</td>\n",
       "      <td>1.990973</td>\n",
       "      <td>0.506155</td>\n",
       "      <td>0.130435</td>\n",
       "      <td>0.479508</td>\n",
       "      <td>1</td>\n",
       "    </tr>\n",
       "  </tbody>\n",
       "</table>\n",
       "</div>"
      ],
      "text/plain": [
       "    X1   X2   X3   X4   X5   X6        I1        I2        I3        I4  \\\n",
       "0  323  229  120  517  209  115  0.623234 -1.047476  1.473405  0.380537   \n",
       "1  335  220  109  387  149   89  0.560484 -1.004514  1.200777  0.324813   \n",
       "2  255  150   52  184   72   45  0.559322 -0.996822  0.825000  0.300728   \n",
       "3  254  182   73  413  156   84  0.699588 -1.151258  1.425354  0.436268   \n",
       "4  257  219  100  722  254  130  0.756691 -1.236199  1.990973  0.506155   \n",
       "\n",
       "         I5        I6  target  \n",
       "0 -0.021277  0.424242       1  \n",
       "1 -0.101010  0.444030       1  \n",
       "2 -0.072165  0.437500       1  \n",
       "3  0.070064  0.451670       1  \n",
       "4  0.130435  0.479508       1  "
      ]
     },
     "execution_count": 5,
     "metadata": {},
     "output_type": "execute_result"
    }
   ],
   "source": [
    "train.head()"
   ]
  },
  {
   "cell_type": "markdown",
   "metadata": {},
   "source": [
    "# EDA Starts from here"
   ]
  },
  {
   "cell_type": "markdown",
   "metadata": {},
   "source": [
    "## Checking the Null Counts\n",
    "\n",
    "### Observation :- No Null Values"
   ]
  },
  {
   "cell_type": "code",
   "execution_count": 5,
   "metadata": {},
   "outputs": [
    {
     "data": {
      "text/plain": [
       "X1        0\n",
       "X2        0\n",
       "X3        0\n",
       "X4        0\n",
       "X5        0\n",
       "X6        0\n",
       "I1        0\n",
       "I2        0\n",
       "I3        0\n",
       "I4        0\n",
       "I5        0\n",
       "I6        0\n",
       "target    0\n",
       "dtype: int64"
      ]
     },
     "execution_count": 5,
     "metadata": {},
     "output_type": "execute_result"
    }
   ],
   "source": [
    "train.isnull().sum()"
   ]
  },
  {
   "cell_type": "markdown",
   "metadata": {},
   "source": [
    "## Now Lets see the description of the dataset \n",
    "\n",
    "\n",
    "### Observations : -\n",
    "- mean value, std , minimum value and maximum value is small in all I columns and very much larger in X Columns."
   ]
  },
  {
   "cell_type": "code",
   "execution_count": 7,
   "metadata": {},
   "outputs": [
    {
     "data": {
      "text/html": [
       "<div>\n",
       "<style>\n",
       "    .dataframe thead tr:only-child th {\n",
       "        text-align: right;\n",
       "    }\n",
       "\n",
       "    .dataframe thead th {\n",
       "        text-align: left;\n",
       "    }\n",
       "\n",
       "    .dataframe tbody tr th {\n",
       "        vertical-align: top;\n",
       "    }\n",
       "</style>\n",
       "<table border=\"1\" class=\"dataframe\">\n",
       "  <thead>\n",
       "    <tr style=\"text-align: right;\">\n",
       "      <th></th>\n",
       "      <th>X1</th>\n",
       "      <th>X2</th>\n",
       "      <th>X3</th>\n",
       "      <th>X4</th>\n",
       "      <th>X5</th>\n",
       "      <th>X6</th>\n",
       "      <th>I1</th>\n",
       "      <th>I2</th>\n",
       "      <th>I3</th>\n",
       "      <th>I4</th>\n",
       "      <th>I5</th>\n",
       "      <th>I6</th>\n",
       "      <th>target</th>\n",
       "    </tr>\n",
       "  </thead>\n",
       "  <tbody>\n",
       "    <tr>\n",
       "      <th>count</th>\n",
       "      <td>110000.000000</td>\n",
       "      <td>110000.000000</td>\n",
       "      <td>110000.000000</td>\n",
       "      <td>110000.000000</td>\n",
       "      <td>110000.000000</td>\n",
       "      <td>110000.000000</td>\n",
       "      <td>110000.000000</td>\n",
       "      <td>110000.000000</td>\n",
       "      <td>110000.000000</td>\n",
       "      <td>110000.000000</td>\n",
       "      <td>110000.000000</td>\n",
       "      <td>110000.000000</td>\n",
       "      <td>110000.000000</td>\n",
       "    </tr>\n",
       "    <tr>\n",
       "      <th>mean</th>\n",
       "      <td>505.820582</td>\n",
       "      <td>778.290627</td>\n",
       "      <td>819.375336</td>\n",
       "      <td>1752.844418</td>\n",
       "      <td>1078.027418</td>\n",
       "      <td>739.470318</td>\n",
       "      <td>0.384085</td>\n",
       "      <td>-0.712814</td>\n",
       "      <td>1.615682</td>\n",
       "      <td>0.304885</td>\n",
       "      <td>-0.046779</td>\n",
       "      <td>0.328729</td>\n",
       "      <td>1.909091</td>\n",
       "    </tr>\n",
       "    <tr>\n",
       "      <th>std</th>\n",
       "      <td>428.347173</td>\n",
       "      <td>529.490028</td>\n",
       "      <td>674.422188</td>\n",
       "      <td>693.583645</td>\n",
       "      <td>868.842300</td>\n",
       "      <td>797.061740</td>\n",
       "      <td>0.387576</td>\n",
       "      <td>0.472998</td>\n",
       "      <td>1.652829</td>\n",
       "      <td>0.262865</td>\n",
       "      <td>0.421622</td>\n",
       "      <td>0.268098</td>\n",
       "      <td>0.995864</td>\n",
       "    </tr>\n",
       "    <tr>\n",
       "      <th>min</th>\n",
       "      <td>0.000000</td>\n",
       "      <td>79.000000</td>\n",
       "      <td>0.000000</td>\n",
       "      <td>77.000000</td>\n",
       "      <td>52.000000</td>\n",
       "      <td>25.000000</td>\n",
       "      <td>-0.517672</td>\n",
       "      <td>-1.566332</td>\n",
       "      <td>-2.842839</td>\n",
       "      <td>-0.390293</td>\n",
       "      <td>-0.904241</td>\n",
       "      <td>-0.822989</td>\n",
       "      <td>1.000000</td>\n",
       "    </tr>\n",
       "    <tr>\n",
       "      <th>25%</th>\n",
       "      <td>172.000000</td>\n",
       "      <td>333.000000</td>\n",
       "      <td>211.000000</td>\n",
       "      <td>1209.000000</td>\n",
       "      <td>256.000000</td>\n",
       "      <td>190.000000</td>\n",
       "      <td>-0.006770</td>\n",
       "      <td>-1.212487</td>\n",
       "      <td>-0.042051</td>\n",
       "      <td>0.041264</td>\n",
       "      <td>-0.474310</td>\n",
       "      <td>0.035974</td>\n",
       "      <td>1.000000</td>\n",
       "    </tr>\n",
       "    <tr>\n",
       "      <th>50%</th>\n",
       "      <td>540.000000</td>\n",
       "      <td>809.500000</td>\n",
       "      <td>817.000000</td>\n",
       "      <td>1785.000000</td>\n",
       "      <td>863.000000</td>\n",
       "      <td>346.000000</td>\n",
       "      <td>0.222476</td>\n",
       "      <td>-0.681110</td>\n",
       "      <td>1.048291</td>\n",
       "      <td>0.210903</td>\n",
       "      <td>0.170455</td>\n",
       "      <td>0.394099</td>\n",
       "      <td>2.000000</td>\n",
       "    </tr>\n",
       "    <tr>\n",
       "      <th>75%</th>\n",
       "      <td>699.000000</td>\n",
       "      <td>1022.000000</td>\n",
       "      <td>1237.000000</td>\n",
       "      <td>2148.000000</td>\n",
       "      <td>1601.000000</td>\n",
       "      <td>1245.000000</td>\n",
       "      <td>0.810632</td>\n",
       "      <td>-0.186692</td>\n",
       "      <td>3.352103</td>\n",
       "      <td>0.587857</td>\n",
       "      <td>0.257062</td>\n",
       "      <td>0.463504</td>\n",
       "      <td>3.000000</td>\n",
       "    </tr>\n",
       "    <tr>\n",
       "      <th>max</th>\n",
       "      <td>9346.000000</td>\n",
       "      <td>9615.000000</td>\n",
       "      <td>9877.000000</td>\n",
       "      <td>9316.000000</td>\n",
       "      <td>8249.000000</td>\n",
       "      <td>7180.000000</td>\n",
       "      <td>1.000000</td>\n",
       "      <td>1.144574</td>\n",
       "      <td>5.833693</td>\n",
       "      <td>0.930116</td>\n",
       "      <td>1.000000</td>\n",
       "      <td>0.881131</td>\n",
       "      <td>4.000000</td>\n",
       "    </tr>\n",
       "  </tbody>\n",
       "</table>\n",
       "</div>"
      ],
      "text/plain": [
       "                  X1             X2             X3             X4  \\\n",
       "count  110000.000000  110000.000000  110000.000000  110000.000000   \n",
       "mean      505.820582     778.290627     819.375336    1752.844418   \n",
       "std       428.347173     529.490028     674.422188     693.583645   \n",
       "min         0.000000      79.000000       0.000000      77.000000   \n",
       "25%       172.000000     333.000000     211.000000    1209.000000   \n",
       "50%       540.000000     809.500000     817.000000    1785.000000   \n",
       "75%       699.000000    1022.000000    1237.000000    2148.000000   \n",
       "max      9346.000000    9615.000000    9877.000000    9316.000000   \n",
       "\n",
       "                  X5             X6             I1             I2  \\\n",
       "count  110000.000000  110000.000000  110000.000000  110000.000000   \n",
       "mean     1078.027418     739.470318       0.384085      -0.712814   \n",
       "std       868.842300     797.061740       0.387576       0.472998   \n",
       "min        52.000000      25.000000      -0.517672      -1.566332   \n",
       "25%       256.000000     190.000000      -0.006770      -1.212487   \n",
       "50%       863.000000     346.000000       0.222476      -0.681110   \n",
       "75%      1601.000000    1245.000000       0.810632      -0.186692   \n",
       "max      8249.000000    7180.000000       1.000000       1.144574   \n",
       "\n",
       "                  I3             I4             I5             I6  \\\n",
       "count  110000.000000  110000.000000  110000.000000  110000.000000   \n",
       "mean        1.615682       0.304885      -0.046779       0.328729   \n",
       "std         1.652829       0.262865       0.421622       0.268098   \n",
       "min        -2.842839      -0.390293      -0.904241      -0.822989   \n",
       "25%        -0.042051       0.041264      -0.474310       0.035974   \n",
       "50%         1.048291       0.210903       0.170455       0.394099   \n",
       "75%         3.352103       0.587857       0.257062       0.463504   \n",
       "max         5.833693       0.930116       1.000000       0.881131   \n",
       "\n",
       "              target  \n",
       "count  110000.000000  \n",
       "mean        1.909091  \n",
       "std         0.995864  \n",
       "min         1.000000  \n",
       "25%         1.000000  \n",
       "50%         2.000000  \n",
       "75%         3.000000  \n",
       "max         4.000000  "
      ]
     },
     "execution_count": 7,
     "metadata": {},
     "output_type": "execute_result"
    }
   ],
   "source": [
    "train.describe()"
   ]
  },
  {
   "cell_type": "markdown",
   "metadata": {},
   "source": [
    "## Lets see what are correlated features in these dataset\n",
    "\n",
    "### According to our observations :\n",
    "- [ X1 , X2 , X3 ] are correlated heavily \n",
    "- [ X5 , X6 ] are correlated heavily\n",
    "- [ I1 , I3 , I4 ] are correlated heavily\n",
    "\n",
    "\n",
    "\n",
    "### Pair Plot between ('X1' , 'X2' , 'X3' , 'X4' , 'X5' , 'X6')"
   ]
  },
  {
   "cell_type": "code",
   "execution_count": 10,
   "metadata": {},
   "outputs": [
    {
     "name": "stderr",
     "output_type": "stream",
     "text": [
      "/home/anmol/anaconda3/envs/env27/lib/python2.7/site-packages/matplotlib/contour.py:960: UserWarning: The following kwargs were not used by contour: 'color', 'label'\n",
      "  s)\n"
     ]
    },
    {
     "data": {
      "text/plain": [
       "<seaborn.axisgrid.PairGrid at 0x7f4df3e93d10>"
      ]
     },
     "execution_count": 10,
     "metadata": {},
     "output_type": "execute_result"
    },
    {
     "data": {
      "image/png": "[encoded data removed]",
      "text/plain": [
       "<Figure size 1080x1080 with 42 Axes>"
      ]
     },
     "metadata": {},
     "output_type": "display_data"
    }
   ],
   "source": [
    "sns.set(style=\"white\")\n",
    "df = train.loc[:,['X1','X2','X3','X4','X5','X6']]\n",
    "g = sns.PairGrid(df, diag_sharey=False)\n",
    "g.map_lower(sns.kdeplot, cmap=\"Blues_d\")\n",
    "g.map_upper(plt.scatter)\n",
    "g.map_diag(sns.kdeplot, lw=3)"
   ]
  },
  {
   "cell_type": "markdown",
   "metadata": {},
   "source": [
    "### Pair Plot between ('I1' , 'I2' , 'I3' , 'I4' , 'I5' , 'I6')"
   ]
  },
  {
   "cell_type": "code",
   "execution_count": 12,
   "metadata": {},
   "outputs": [
    {
     "data": {
      "text/plain": [
       "<seaborn.axisgrid.PairGrid at 0x7f4df0549210>"
      ]
     },
     "execution_count": 12,
     "metadata": {},
     "output_type": "execute_result"
    },
    {
     "data": {
      "image/png": "[encoded data removed]",
      "text/plain": [
       "<Figure size 1080x1080 with 42 Axes>"
      ]
     },
     "metadata": {},
     "output_type": "display_data"
    }
   ],
   "source": [
    "sns.set(style=\"white\")\n",
    "df = train.loc[:,['I1','I2','I3','I4','I5','I6']]\n",
    "g = sns.PairGrid(df, diag_sharey=False)\n",
    "g.map_lower(sns.kdeplot, cmap=\"Blues_d\")\n",
    "g.map_upper(plt.scatter)\n",
    "g.map_diag(sns.kdeplot, lw=3)"
   ]
  },
  {
   "cell_type": "markdown",
   "metadata": {},
   "source": [
    "### HeatMap "
   ]
  },
  {
   "cell_type": "code",
   "execution_count": 203,
   "metadata": {},
   "outputs": [
    {
     "data": {
      "text/plain": [
       "<matplotlib.axes._subplots.AxesSubplot at 0x7fc6578f5710>"
      ]
     },
     "execution_count": 203,
     "metadata": {},
     "output_type": "execute_result"
    },
    {
     "data": {
      "image/png": "[encoded data removed]",
      "text/plain": [
       "<Figure size 1008x864 with 2 Axes>"
      ]
     },
     "metadata": {},
     "output_type": "display_data"
    }
   ],
   "source": [
    "colormap = plt.cm.RdBu\n",
    "plt.figure(figsize=(14,12))\n",
    "plt.title('Pearson Correlation of Features', y=1.05, size=15)\n",
    "sns.heatmap(train.astype(float).corr(),linewidths=0.1,vmax=1.0, \n",
    "            square=True, cmap=colormap, linecolor='white', annot=True)"
   ]
  },
  {
   "cell_type": "markdown",
   "metadata": {},
   "source": [
    "### Grouping together features whose pearson correlation value >0.90 or <-0.90 . Threshold value = 0.90 is taken here"
   ]
  },
  {
   "cell_type": "code",
   "execution_count": 15,
   "metadata": {},
   "outputs": [
    {
     "name": "stdout",
     "output_type": "stream",
     "text": [
      "[['X1', 'X2', 'X3'], ['X4'], ['X5', 'X6'], ['I1', 'I3', 'I4'], ['I5'], ['I6'], ['target']]\n"
     ]
    }
   ],
   "source": [
    "# We have taken threshold value of 0.9\n",
    "\n",
    "corrMatrix = train.corr()\n",
    "l = train.columns\n",
    "correlation_list = []\n",
    "\n",
    "i = 0\n",
    "while (i<len(l)):\n",
    "    corr_l = []\n",
    "    corr_l.append(l[i])\n",
    "    for j in range(i+1,len(l)):\n",
    "        if(corrMatrix[l[i]][l[j]]>0.90 or corrMatrix[l[i]][l[j]] < -0.90):\n",
    "            corr_l.append(l[j])\n",
    "            i = j\n",
    "    i = i+1\n",
    "    correlation_list.append(corr_l)\n",
    "    \n",
    "print(correlation_list)   "
   ]
  },
  {
   "cell_type": "markdown",
   "metadata": {},
   "source": [
    "## Lets Try this method and see the performance of the model. \n",
    "\n",
    "## Lets  make a new dataset after taking only one feature among these correlated features.\n",
    "\n",
    "## Question is How to select the best feature among these correlated features:\n",
    "\n",
    "### We have used Mutual Information to select the best feature which is more dependant on target variable.\n",
    "\n",
    "#### Mutual information (MI) between two random variables is a non-negative value, which measures the dependency between the variables. It is equal to zero if and only if two random variables are independent, and higher values mean higher dependency."
   ]
  },
  {
   "cell_type": "code",
   "execution_count": 19,
   "metadata": {},
   "outputs": [],
   "source": [
    "from sklearn.feature_selection import SelectKBest\n",
    "from sklearn.feature_selection import mutual_info_classif"
   ]
  },
  {
   "cell_type": "markdown",
   "metadata": {},
   "source": [
    "## Ohh!! Lets do one thing first. Splitting Training Data into x and y where :\n",
    "\n",
    "## x : Features\n",
    "## y : Target Variable\n",
    "\n",
    "## After that, standardize the x features as we saw above that :\n",
    "#### mean value, std , minimum value and maximum value is small in all I columns and very much larger in X Columns.\n"
   ]
  },
  {
   "cell_type": "code",
   "execution_count": 247,
   "metadata": {},
   "outputs": [],
   "source": [
    "def standardization(d):\n",
    "    return ((d-d.mean())/d.std())"
   ]
  },
  {
   "cell_type": "code",
   "execution_count": 248,
   "metadata": {},
   "outputs": [],
   "source": [
    "x = train.drop(['target'],axis = 1)\n",
    "y = train.target"
   ]
  },
  {
   "cell_type": "code",
   "execution_count": 249,
   "metadata": {},
   "outputs": [],
   "source": [
    "x = standardization(x)"
   ]
  },
  {
   "cell_type": "code",
   "execution_count": 250,
   "metadata": {},
   "outputs": [
    {
     "data": {
      "text/html": [
       "<div>\n",
       "<style>\n",
       "    .dataframe thead tr:only-child th {\n",
       "        text-align: right;\n",
       "    }\n",
       "\n",
       "    .dataframe thead th {\n",
       "        text-align: left;\n",
       "    }\n",
       "\n",
       "    .dataframe tbody tr th {\n",
       "        vertical-align: top;\n",
       "    }\n",
       "</style>\n",
       "<table border=\"1\" class=\"dataframe\">\n",
       "  <thead>\n",
       "    <tr style=\"text-align: right;\">\n",
       "      <th></th>\n",
       "      <th>X1</th>\n",
       "      <th>X2</th>\n",
       "      <th>X3</th>\n",
       "      <th>X4</th>\n",
       "      <th>X5</th>\n",
       "      <th>X6</th>\n",
       "      <th>I1</th>\n",
       "      <th>I2</th>\n",
       "      <th>I3</th>\n",
       "      <th>I4</th>\n",
       "      <th>I5</th>\n",
       "      <th>I6</th>\n",
       "    </tr>\n",
       "  </thead>\n",
       "  <tbody>\n",
       "    <tr>\n",
       "      <th>0</th>\n",
       "      <td>-0.426805</td>\n",
       "      <td>-1.037396</td>\n",
       "      <td>-1.036999</td>\n",
       "      <td>-1.781825</td>\n",
       "      <td>-1.000213</td>\n",
       "      <td>-0.783465</td>\n",
       "      <td>0.617036</td>\n",
       "      <td>-0.707535</td>\n",
       "      <td>-0.086081</td>\n",
       "      <td>0.287800</td>\n",
       "      <td>0.060487</td>\n",
       "      <td>0.356264</td>\n",
       "    </tr>\n",
       "    <tr>\n",
       "      <th>1</th>\n",
       "      <td>-0.398790</td>\n",
       "      <td>-1.054393</td>\n",
       "      <td>-1.053310</td>\n",
       "      <td>-1.969257</td>\n",
       "      <td>-1.069270</td>\n",
       "      <td>-0.816085</td>\n",
       "      <td>0.455133</td>\n",
       "      <td>-0.616705</td>\n",
       "      <td>-0.251027</td>\n",
       "      <td>0.075811</td>\n",
       "      <td>-0.128625</td>\n",
       "      <td>0.430071</td>\n",
       "    </tr>\n",
       "  </tbody>\n",
       "</table>\n",
       "</div>"
      ],
      "text/plain": [
       "         X1        X2        X3        X4        X5        X6        I1  \\\n",
       "0 -0.426805 -1.037396 -1.036999 -1.781825 -1.000213 -0.783465  0.617036   \n",
       "1 -0.398790 -1.054393 -1.053310 -1.969257 -1.069270 -0.816085  0.455133   \n",
       "\n",
       "         I2        I3        I4        I5        I6  \n",
       "0 -0.707535 -0.086081  0.287800  0.060487  0.356264  \n",
       "1 -0.616705 -0.251027  0.075811 -0.128625  0.430071  "
      ]
     },
     "execution_count": 250,
     "metadata": {},
     "output_type": "execute_result"
    }
   ],
   "source": [
    "x.head(2)"
   ]
  },
  {
   "cell_type": "markdown",
   "metadata": {},
   "source": [
    "### I1 is best among I1,I3,I4"
   ]
  },
  {
   "cell_type": "code",
   "execution_count": 25,
   "metadata": {},
   "outputs": [],
   "source": [
    "x_l = x.loc[:,['I1','I3','I4']]\n",
    "l_best= SelectKBest(mutual_info_classif, k=1).fit_transform(x_l, y)"
   ]
  },
  {
   "cell_type": "code",
   "execution_count": 26,
   "metadata": {},
   "outputs": [
    {
     "data": {
      "text/plain": [
       "array([[ 0.61703647],\n",
       "       [ 0.45513281],\n",
       "       [ 0.45213518],\n",
       "       ..., \n",
       "       [-0.58407898],\n",
       "       [-0.52282587],\n",
       "       [-0.47107014]])"
      ]
     },
     "execution_count": 26,
     "metadata": {},
     "output_type": "execute_result"
    }
   ],
   "source": [
    "l_best"
   ]
  },
  {
   "cell_type": "markdown",
   "metadata": {},
   "source": [
    "### X3 is best among X1,X2,X3"
   ]
  },
  {
   "cell_type": "code",
   "execution_count": 28,
   "metadata": {},
   "outputs": [],
   "source": [
    "x_l = x.loc[:,['X1','X2','X3']]\n",
    "l_best= SelectKBest(mutual_info_classif, k=1).fit_transform(x_l, y)"
   ]
  },
  {
   "cell_type": "code",
   "execution_count": 29,
   "metadata": {},
   "outputs": [
    {
     "data": {
      "text/plain": [
       "array([[-1.0369993 ],\n",
       "       [-1.05330956],\n",
       "       [-1.13782635],\n",
       "       ..., \n",
       "       [ 0.56288875],\n",
       "       [ 0.43388944],\n",
       "       [ 0.3538209 ]])"
      ]
     },
     "execution_count": 29,
     "metadata": {},
     "output_type": "execute_result"
    }
   ],
   "source": [
    "l_best"
   ]
  },
  {
   "cell_type": "markdown",
   "metadata": {},
   "source": [
    "### X6 seems to be the best among X5,X6"
   ]
  },
  {
   "cell_type": "code",
   "execution_count": 30,
   "metadata": {},
   "outputs": [],
   "source": [
    "x_l = x.loc[:,['X5','X6']]\n",
    "l_best= SelectKBest(mutual_info_classif, k=1).fit_transform(x_l, y)"
   ]
  },
  {
   "cell_type": "code",
   "execution_count": 31,
   "metadata": {},
   "outputs": [
    {
     "data": {
      "text/plain": [
       "array([[-0.78346543],\n",
       "       [-0.81608524],\n",
       "       [-0.87128799],\n",
       "       ..., \n",
       "       [ 0.87136246],\n",
       "       [ 0.91150992],\n",
       "       [ 0.96922188]])"
      ]
     },
     "execution_count": 31,
     "metadata": {},
     "output_type": "execute_result"
    }
   ],
   "source": [
    "l_best"
   ]
  },
  {
   "cell_type": "markdown",
   "metadata": {},
   "source": [
    "### Remove correlated features\n",
    "\n",
    "### After Removing features we get : X3 , X4 , X6 , I1 , I2 , I5 , I6"
   ]
  },
  {
   "cell_type": "code",
   "execution_count": 204,
   "metadata": {},
   "outputs": [
    {
     "data": {
      "text/html": [
       "<div>\n",
       "<style>\n",
       "    .dataframe thead tr:only-child th {\n",
       "        text-align: right;\n",
       "    }\n",
       "\n",
       "    .dataframe thead th {\n",
       "        text-align: left;\n",
       "    }\n",
       "\n",
       "    .dataframe tbody tr th {\n",
       "        vertical-align: top;\n",
       "    }\n",
       "</style>\n",
       "<table border=\"1\" class=\"dataframe\">\n",
       "  <thead>\n",
       "    <tr style=\"text-align: right;\">\n",
       "      <th></th>\n",
       "      <th>X3</th>\n",
       "      <th>X4</th>\n",
       "      <th>X6</th>\n",
       "      <th>I1</th>\n",
       "      <th>I2</th>\n",
       "      <th>I5</th>\n",
       "      <th>I6</th>\n",
       "    </tr>\n",
       "  </thead>\n",
       "  <tbody>\n",
       "    <tr>\n",
       "      <th>0</th>\n",
       "      <td>-1.036999</td>\n",
       "      <td>-1.781825</td>\n",
       "      <td>-0.783465</td>\n",
       "      <td>0.617036</td>\n",
       "      <td>-0.707535</td>\n",
       "      <td>0.060487</td>\n",
       "      <td>0.356264</td>\n",
       "    </tr>\n",
       "    <tr>\n",
       "      <th>1</th>\n",
       "      <td>-1.053310</td>\n",
       "      <td>-1.969257</td>\n",
       "      <td>-0.816085</td>\n",
       "      <td>0.455133</td>\n",
       "      <td>-0.616705</td>\n",
       "      <td>-0.128625</td>\n",
       "      <td>0.430071</td>\n",
       "    </tr>\n",
       "    <tr>\n",
       "      <th>2</th>\n",
       "      <td>-1.137826</td>\n",
       "      <td>-2.261940</td>\n",
       "      <td>-0.871288</td>\n",
       "      <td>0.452135</td>\n",
       "      <td>-0.600443</td>\n",
       "      <td>-0.060210</td>\n",
       "      <td>0.405715</td>\n",
       "    </tr>\n",
       "    <tr>\n",
       "      <th>3</th>\n",
       "      <td>-1.106689</td>\n",
       "      <td>-1.931770</td>\n",
       "      <td>-0.822358</td>\n",
       "      <td>0.814042</td>\n",
       "      <td>-0.926948</td>\n",
       "      <td>0.277127</td>\n",
       "      <td>0.458567</td>\n",
       "    </tr>\n",
       "    <tr>\n",
       "      <th>4</th>\n",
       "      <td>-1.066654</td>\n",
       "      <td>-1.486258</td>\n",
       "      <td>-0.764646</td>\n",
       "      <td>0.961374</td>\n",
       "      <td>-1.106528</td>\n",
       "      <td>0.420315</td>\n",
       "      <td>0.562404</td>\n",
       "    </tr>\n",
       "  </tbody>\n",
       "</table>\n",
       "</div>"
      ],
      "text/plain": [
       "         X3        X4        X6        I1        I2        I5        I6\n",
       "0 -1.036999 -1.781825 -0.783465  0.617036 -0.707535  0.060487  0.356264\n",
       "1 -1.053310 -1.969257 -0.816085  0.455133 -0.616705 -0.128625  0.430071\n",
       "2 -1.137826 -2.261940 -0.871288  0.452135 -0.600443 -0.060210  0.405715\n",
       "3 -1.106689 -1.931770 -0.822358  0.814042 -0.926948  0.277127  0.458567\n",
       "4 -1.066654 -1.486258 -0.764646  0.961374 -1.106528  0.420315  0.562404"
      ]
     },
     "execution_count": 204,
     "metadata": {},
     "output_type": "execute_result"
    }
   ],
   "source": [
    "xt = x.drop(['X1','X2','X5','I3','I4'],axis = 1)\n",
    "xt.head()"
   ]
  },
  {
   "cell_type": "markdown",
   "metadata": {},
   "source": [
    "## Now Lets see The Distribution Percentage of Target Variable : y\n",
    "\n",
    "## Observations\n",
    "\n",
    "- Percentage of 1 : 45.4545454545\n",
    "- Percentage of 2 : 27.2727272727\n",
    "- Percentage of 3 : 18.1818181818\n",
    "- Percentage of 4 : 9.09090909091\n",
    "\n",
    "### There is imbalanced distribution in the dataset.\n",
    "\n",
    "### We must handle this to get best model performance."
   ]
  },
  {
   "cell_type": "code",
   "execution_count": 33,
   "metadata": {},
   "outputs": [
    {
     "data": {
      "image/png": "[encoded data removed]",
      "text/plain": [
       "<Figure size 432x288 with 1 Axes>"
      ]
     },
     "metadata": {},
     "output_type": "display_data"
    }
   ],
   "source": [
    "ax = sns.countplot(y,label = \"Count\")"
   ]
  },
  {
   "cell_type": "code",
   "execution_count": 34,
   "metadata": {},
   "outputs": [],
   "source": [
    "def distributionPercentage(target_value):\n",
    "    return float(float((train['target'] == target_value).sum())/train['target'].value_counts().sum())*100 "
   ]
  },
  {
   "cell_type": "code",
   "execution_count": 35,
   "metadata": {},
   "outputs": [
    {
     "name": "stdout",
     "output_type": "stream",
     "text": [
      "Percentage of 1 : 45.4545454545\n",
      "Percentage of 2 : 27.2727272727\n",
      "Percentage of 3 : 18.1818181818\n",
      "Percentage of 4 : 9.09090909091\n"
     ]
    }
   ],
   "source": [
    "print (\"Percentage of 1 : \" + str(distributionPercentage(1)))\n",
    "print (\"Percentage of 2 : \" + str(distributionPercentage(2)))\n",
    "print (\"Percentage of 3 : \" + str(distributionPercentage(3)))\n",
    "print (\"Percentage of 4 : \" + str(distributionPercentage(4)))"
   ]
  },
  {
   "cell_type": "markdown",
   "metadata": {},
   "source": [
    "## Train-Test Split"
   ]
  },
  {
   "cell_type": "code",
   "execution_count": 205,
   "metadata": {},
   "outputs": [],
   "source": [
    "from sklearn.model_selection import train_test_split"
   ]
  },
  {
   "cell_type": "code",
   "execution_count": 206,
   "metadata": {},
   "outputs": [],
   "source": [
    "X_train , X_test, y_train, y_test = train_test_split(xt, y, test_size=0.3, random_state=0)"
   ]
  },
  {
   "cell_type": "markdown",
   "metadata": {},
   "source": [
    "## To Handle Imbalanced Distribution of Target Variable :\n",
    "\n",
    "## We fill be using oversampling technique known as SMOTE"
   ]
  },
  {
   "cell_type": "code",
   "execution_count": 207,
   "metadata": {},
   "outputs": [],
   "source": [
    "from imblearn.over_sampling import SMOTE"
   ]
  },
  {
   "cell_type": "code",
   "execution_count": 208,
   "metadata": {},
   "outputs": [],
   "source": [
    "os = SMOTE(random_state=0)\n",
    "columns = X_train.columns\n",
    "os_data_X,os_data_y=os.fit_sample(X_train, y_train)\n",
    "os_data_X = pd.DataFrame(data=os_data_X,columns=columns)\n",
    "os_data_y= pd.DataFrame(data=os_data_y,columns=['y'])"
   ]
  },
  {
   "cell_type": "markdown",
   "metadata": {},
   "source": [
    "## Finally We Will Now Train The Model\n",
    "\n",
    "------------------------------------------------------\n",
    "### Observations : \n",
    "\n",
    "-------------------------------------------------------\n",
    "\n",
    "#### Logistic Regression : \n",
    "- Accuracy : Training Accuracy ( 89 % ) , Testing Accuracy (89 % ) \n",
    "- Precision (Test Set) : 0.90 \n",
    "- Recall (Test Set):  0.89\n",
    "- F1 Score ( weighted ) (Test Set): 0.89\n",
    "\n",
    "#### SVM : \n",
    "\n",
    "- Accuracy : Training Accuracy ( 91 % ) , Testing Accuracy (91 % ) \n",
    "- Precision (Test Set): 0.92\n",
    "- Recall (Test Set): 0.91\n",
    "- F1 Score ( weighted ) (Test Set): 0.92\n",
    "\n",
    "\n",
    "#### XGBoost : \n",
    "\n",
    "- Accuracy : Training Accuracy (96.22 % ) , Testing Accuracy (96.07 % ) \n",
    "- F1 Score ( weighted )(Test Set) :  0.9612"
   ]
  },
  {
   "cell_type": "code",
   "execution_count": 209,
   "metadata": {},
   "outputs": [],
   "source": [
    "from sklearn.linear_model import LogisticRegression"
   ]
  },
  {
   "cell_type": "code",
   "execution_count": 210,
   "metadata": {},
   "outputs": [
    {
     "data": {
      "text/plain": [
       "LogisticRegression(C=1.0, class_weight=None, dual=False, fit_intercept=True,\n",
       "          intercept_scaling=1, max_iter=100, multi_class='warn',\n",
       "          n_jobs=None, penalty='l2', random_state=None, solver='warn',\n",
       "          tol=0.0001, verbose=0, warm_start=False)"
      ]
     },
     "execution_count": 210,
     "metadata": {},
     "output_type": "execute_result"
    }
   ],
   "source": [
    "logreg = LogisticRegression()\n",
    "logreg.fit(os_data_X,os_data_y)"
   ]
  },
  {
   "cell_type": "code",
   "execution_count": 18,
   "metadata": {},
   "outputs": [
    {
     "name": "stdout",
     "output_type": "stream",
     "text": [
      "Accuracy of logistic regression classifier on test set: 0.89\n"
     ]
    }
   ],
   "source": [
    "y_pred = logreg.predict(X_test)\n",
    "print('Accuracy of logistic regression classifier on test set: {:.2f}'.format(logreg.score(X_test, y_test)))"
   ]
  },
  {
   "cell_type": "code",
   "execution_count": 211,
   "metadata": {},
   "outputs": [
    {
     "name": "stdout",
     "output_type": "stream",
     "text": [
      "Accuracy of logistic regression classifier on train set: 0.89\n"
     ]
    }
   ],
   "source": [
    "print('Accuracy of logistic regression classifier on train set: {:.2f}'.format(logreg.score(X_train, y_train)))"
   ]
  },
  {
   "cell_type": "code",
   "execution_count": 19,
   "metadata": {},
   "outputs": [
    {
     "name": "stdout",
     "output_type": "stream",
     "text": [
      "[[14935     1    22    29]\n",
      " [    0  8960     6    54]\n",
      " [   27     6  3596  2369]\n",
      " [    1     4  1142  1848]]\n"
     ]
    }
   ],
   "source": [
    "from sklearn.metrics import confusion_matrix\n",
    "confusion_matrix = confusion_matrix(y_test, y_pred)\n",
    "print(confusion_matrix)"
   ]
  },
  {
   "cell_type": "code",
   "execution_count": 20,
   "metadata": {},
   "outputs": [
    {
     "name": "stdout",
     "output_type": "stream",
     "text": [
      "              precision    recall  f1-score   support\n",
      "\n",
      "           1       1.00      1.00      1.00     14987\n",
      "           2       1.00      0.99      1.00      9020\n",
      "           3       0.75      0.60      0.67      5998\n",
      "           4       0.43      0.62      0.51      2995\n",
      "\n",
      "   micro avg       0.89      0.89      0.89     33000\n",
      "   macro avg       0.80      0.80      0.79     33000\n",
      "weighted avg       0.90      0.89      0.89     33000\n",
      "\n"
     ]
    }
   ],
   "source": [
    "from sklearn.metrics import classification_report\n",
    "print(classification_report(y_test, y_pred))"
   ]
  },
  {
   "cell_type": "markdown",
   "metadata": {},
   "source": [
    "### SVM"
   ]
  },
  {
   "cell_type": "code",
   "execution_count": 212,
   "metadata": {},
   "outputs": [],
   "source": [
    "from sklearn import svm"
   ]
  },
  {
   "cell_type": "code",
   "execution_count": 213,
   "metadata": {},
   "outputs": [
    {
     "data": {
      "text/plain": [
       "SVC(C=1.0, cache_size=200, class_weight=None, coef0=0.0,\n",
       "  decision_function_shape='ovr', degree=3, gamma='auto_deprecated',\n",
       "  kernel='linear', max_iter=-1, probability=False, random_state=None,\n",
       "  shrinking=True, tol=0.001, verbose=False)"
      ]
     },
     "execution_count": 213,
     "metadata": {},
     "output_type": "execute_result"
    }
   ],
   "source": [
    "svmModel= svm.SVC(kernel='linear')\n",
    "svmModel.fit(os_data_X,os_data_y)"
   ]
  },
  {
   "cell_type": "code",
   "execution_count": 24,
   "metadata": {},
   "outputs": [
    {
     "name": "stdout",
     "output_type": "stream",
     "text": [
      "Accuracy of SVM classifier on test set: 0.91\n"
     ]
    }
   ],
   "source": [
    "y_pred = svmModel.predict(X_test)\n",
    "print('Accuracy of SVM classifier on test set: {:.2f}'.format(svmModel.score(X_test, y_test)))"
   ]
  },
  {
   "cell_type": "code",
   "execution_count": 214,
   "metadata": {},
   "outputs": [
    {
     "name": "stdout",
     "output_type": "stream",
     "text": [
      "Accuracy of SVM classifier on train set: 0.91\n"
     ]
    }
   ],
   "source": [
    "print('Accuracy of SVM classifier on train set: {:.2f}'.format(svmModel.score(X_train, y_train)))"
   ]
  },
  {
   "cell_type": "code",
   "execution_count": 25,
   "metadata": {},
   "outputs": [
    {
     "name": "stdout",
     "output_type": "stream",
     "text": [
      "              precision    recall  f1-score   support\n",
      "\n",
      "           1       1.00      1.00      1.00     14987\n",
      "           2       1.00      1.00      1.00      9020\n",
      "           3       0.77      0.76      0.77      5998\n",
      "           4       0.54      0.55      0.54      2995\n",
      "\n",
      "   micro avg       0.91      0.91      0.91     33000\n",
      "   macro avg       0.83      0.83      0.83     33000\n",
      "weighted avg       0.92      0.91      0.92     33000\n",
      "\n"
     ]
    }
   ],
   "source": [
    "print(classification_report(y_test, y_pred))"
   ]
  },
  {
   "cell_type": "markdown",
   "metadata": {},
   "source": [
    "### XGBoost"
   ]
  },
  {
   "cell_type": "code",
   "execution_count": 26,
   "metadata": {},
   "outputs": [],
   "source": [
    "from xgboost import XGBClassifier"
   ]
  },
  {
   "cell_type": "code",
   "execution_count": 215,
   "metadata": {},
   "outputs": [
    {
     "data": {
      "text/plain": [
       "XGBClassifier(base_score=0.5, booster='gbtree', colsample_bylevel=1,\n",
       "       colsample_bytree=1, gamma=0, learning_rate=0.1, max_delta_step=0,\n",
       "       max_depth=3, min_child_weight=1, missing=None, n_estimators=100,\n",
       "       n_jobs=1, nthread=None, objective='multi:softprob', random_state=0,\n",
       "       reg_alpha=0, reg_lambda=1, scale_pos_weight=1, seed=None,\n",
       "       silent=True, subsample=1)"
      ]
     },
     "execution_count": 215,
     "metadata": {},
     "output_type": "execute_result"
    }
   ],
   "source": [
    "modelXG = XGBClassifier()\n",
    "modelXG.fit(os_data_X,os_data_y)"
   ]
  },
  {
   "cell_type": "code",
   "execution_count": 216,
   "metadata": {},
   "outputs": [
    {
     "name": "stdout",
     "output_type": "stream",
     "text": [
      "Accuracy: 96.22%\n"
     ]
    }
   ],
   "source": [
    "from sklearn.metrics import accuracy_score\n",
    "y_pred = modelXG.predict(X_train)\n",
    "predictions = [round(value) for value in y_pred]\n",
    "accuracy = accuracy_score(y_train, predictions)\n",
    "print(\"Accuracy: %.2f%%\" % (accuracy * 100.0))"
   ]
  },
  {
   "cell_type": "code",
   "execution_count": 28,
   "metadata": {},
   "outputs": [
    {
     "name": "stdout",
     "output_type": "stream",
     "text": [
      "Accuracy: 96.07%\n"
     ]
    }
   ],
   "source": [
    "from sklearn.metrics import accuracy_score\n",
    "y_pred = modelXG.predict(X_test)\n",
    "predictions = [round(value) for value in y_pred]\n",
    "accuracy = accuracy_score(y_test, predictions)\n",
    "print(\"Accuracy: %.2f%%\" % (accuracy * 100.0))"
   ]
  },
  {
   "cell_type": "code",
   "execution_count": 31,
   "metadata": {},
   "outputs": [
    {
     "data": {
      "text/plain": [
       "0.96126884958029146"
      ]
     },
     "execution_count": 31,
     "metadata": {},
     "output_type": "execute_result"
    }
   ],
   "source": [
    "from sklearn.metrics import f1_score\n",
    "f1_score(y_test, y_pred, average='weighted')  "
   ]
  },
  {
   "cell_type": "markdown",
   "metadata": {},
   "source": [
    "# Note Very Important Thing :\n",
    "\n",
    "- We have just removed the correlated features from the dataset . But we should not just remove the features directly from the dataset as there will be loss of information which they will provide the model to classify.\n",
    "\n",
    "- Instead just removing the features from the dataset. We should train the model with L2 penalty keeping all the correalted features in the dataset. This is the best practises to train the model with correlated features.\n"
   ]
  },
  {
   "cell_type": "code",
   "execution_count": 32,
   "metadata": {},
   "outputs": [
    {
     "data": {
      "text/html": [
       "<div>\n",
       "<style>\n",
       "    .dataframe thead tr:only-child th {\n",
       "        text-align: right;\n",
       "    }\n",
       "\n",
       "    .dataframe thead th {\n",
       "        text-align: left;\n",
       "    }\n",
       "\n",
       "    .dataframe tbody tr th {\n",
       "        vertical-align: top;\n",
       "    }\n",
       "</style>\n",
       "<table border=\"1\" class=\"dataframe\">\n",
       "  <thead>\n",
       "    <tr style=\"text-align: right;\">\n",
       "      <th></th>\n",
       "      <th>X1</th>\n",
       "      <th>X2</th>\n",
       "      <th>X3</th>\n",
       "      <th>X4</th>\n",
       "      <th>X5</th>\n",
       "      <th>X6</th>\n",
       "      <th>I1</th>\n",
       "      <th>I2</th>\n",
       "      <th>I3</th>\n",
       "      <th>I4</th>\n",
       "      <th>I5</th>\n",
       "      <th>I6</th>\n",
       "    </tr>\n",
       "  </thead>\n",
       "  <tbody>\n",
       "    <tr>\n",
       "      <th>0</th>\n",
       "      <td>-0.426805</td>\n",
       "      <td>-1.037396</td>\n",
       "      <td>-1.036999</td>\n",
       "      <td>-1.781825</td>\n",
       "      <td>-1.000213</td>\n",
       "      <td>-0.783465</td>\n",
       "      <td>0.617036</td>\n",
       "      <td>-0.707535</td>\n",
       "      <td>-0.086081</td>\n",
       "      <td>0.287800</td>\n",
       "      <td>0.060487</td>\n",
       "      <td>0.356264</td>\n",
       "    </tr>\n",
       "    <tr>\n",
       "      <th>1</th>\n",
       "      <td>-0.398790</td>\n",
       "      <td>-1.054393</td>\n",
       "      <td>-1.053310</td>\n",
       "      <td>-1.969257</td>\n",
       "      <td>-1.069270</td>\n",
       "      <td>-0.816085</td>\n",
       "      <td>0.455133</td>\n",
       "      <td>-0.616705</td>\n",
       "      <td>-0.251027</td>\n",
       "      <td>0.075811</td>\n",
       "      <td>-0.128625</td>\n",
       "      <td>0.430071</td>\n",
       "    </tr>\n",
       "    <tr>\n",
       "      <th>2</th>\n",
       "      <td>-0.585554</td>\n",
       "      <td>-1.186596</td>\n",
       "      <td>-1.137826</td>\n",
       "      <td>-2.261940</td>\n",
       "      <td>-1.157894</td>\n",
       "      <td>-0.871288</td>\n",
       "      <td>0.452135</td>\n",
       "      <td>-0.600443</td>\n",
       "      <td>-0.478381</td>\n",
       "      <td>-0.015812</td>\n",
       "      <td>-0.060210</td>\n",
       "      <td>0.405715</td>\n",
       "    </tr>\n",
       "    <tr>\n",
       "      <th>3</th>\n",
       "      <td>-0.587889</td>\n",
       "      <td>-1.126160</td>\n",
       "      <td>-1.106689</td>\n",
       "      <td>-1.931770</td>\n",
       "      <td>-1.061214</td>\n",
       "      <td>-0.822358</td>\n",
       "      <td>0.814042</td>\n",
       "      <td>-0.926948</td>\n",
       "      <td>-0.115153</td>\n",
       "      <td>0.499814</td>\n",
       "      <td>0.277127</td>\n",
       "      <td>0.458567</td>\n",
       "    </tr>\n",
       "    <tr>\n",
       "      <th>4</th>\n",
       "      <td>-0.580885</td>\n",
       "      <td>-1.056282</td>\n",
       "      <td>-1.066654</td>\n",
       "      <td>-1.486258</td>\n",
       "      <td>-0.948420</td>\n",
       "      <td>-0.764646</td>\n",
       "      <td>0.961374</td>\n",
       "      <td>-1.106528</td>\n",
       "      <td>0.227060</td>\n",
       "      <td>0.765678</td>\n",
       "      <td>0.420315</td>\n",
       "      <td>0.562404</td>\n",
       "    </tr>\n",
       "  </tbody>\n",
       "</table>\n",
       "</div>"
      ],
      "text/plain": [
       "         X1        X2        X3        X4        X5        X6        I1  \\\n",
       "0 -0.426805 -1.037396 -1.036999 -1.781825 -1.000213 -0.783465  0.617036   \n",
       "1 -0.398790 -1.054393 -1.053310 -1.969257 -1.069270 -0.816085  0.455133   \n",
       "2 -0.585554 -1.186596 -1.137826 -2.261940 -1.157894 -0.871288  0.452135   \n",
       "3 -0.587889 -1.126160 -1.106689 -1.931770 -1.061214 -0.822358  0.814042   \n",
       "4 -0.580885 -1.056282 -1.066654 -1.486258 -0.948420 -0.764646  0.961374   \n",
       "\n",
       "         I2        I3        I4        I5        I6  \n",
       "0 -0.707535 -0.086081  0.287800  0.060487  0.356264  \n",
       "1 -0.616705 -0.251027  0.075811 -0.128625  0.430071  \n",
       "2 -0.600443 -0.478381 -0.015812 -0.060210  0.405715  \n",
       "3 -0.926948 -0.115153  0.499814  0.277127  0.458567  \n",
       "4 -1.106528  0.227060  0.765678  0.420315  0.562404  "
      ]
     },
     "execution_count": 32,
     "metadata": {},
     "output_type": "execute_result"
    }
   ],
   "source": [
    "x.head()"
   ]
  },
  {
   "cell_type": "markdown",
   "metadata": {},
   "source": [
    "### Train-Test Split"
   ]
  },
  {
   "cell_type": "code",
   "execution_count": 217,
   "metadata": {},
   "outputs": [],
   "source": [
    "from sklearn.model_selection import train_test_split\n",
    "X_train , X_test, y_train, y_test = train_test_split(x, y, test_size=0.3, random_state=0)"
   ]
  },
  {
   "cell_type": "markdown",
   "metadata": {},
   "source": [
    "### To Handle Imbalanced Distribution of Target Variable :\n",
    "\n",
    "### We fill be using oversampling technique known as SMOTE"
   ]
  },
  {
   "cell_type": "code",
   "execution_count": 218,
   "metadata": {},
   "outputs": [],
   "source": [
    "from imblearn.over_sampling import SMOTE\n",
    "\n",
    "os = SMOTE(random_state=0)\n",
    "columns = X_train.columns\n",
    "os_data_X,os_data_y=os.fit_sample(X_train, y_train)\n",
    "os_data_X = pd.DataFrame(data=os_data_X,columns=columns)\n",
    "os_data_y= pd.DataFrame(data=os_data_y,columns=['y'])"
   ]
  },
  {
   "cell_type": "markdown",
   "metadata": {},
   "source": [
    "## Finally We Will Now Train The Model\n",
    "-------------------------------------------------------------------------\n",
    "\n",
    "### Observations : \n",
    "--------------------------------------------------------------------------\n",
    "\n",
    "#### Logistic Regression\n",
    "\n",
    "- Accuracy : Training Accuracy ( 93 % ) , Testing Accuracy (94 % ) \n",
    "- Precision (Test Set) : 0.94\n",
    "- Recall (Test Set): 0.94\n",
    "- F1 Score ( weighted ) (Test Set) : 0.94\n",
    "\n",
    "#### SVM\n",
    "\n",
    "- Accuracy : Training Accuracy (94 % ) , Testing Accuracy (94 % ) \n",
    "- Precision (Test Set): 0.95\n",
    "- Recall (Test Set): 0.94\n",
    "- F1 Score ( weighted ) (Test Set):  0.94\n",
    "\n",
    "#### XGBoost\n",
    "\n",
    "- Accuracy : Training Accuracy ( 96.92% ) , Testing Accuracy ( 96.79% ) \n",
    "- F1 Score ( weighted ) (Test Set):  0.9683\n",
    "\n"
   ]
  },
  {
   "cell_type": "code",
   "execution_count": 35,
   "metadata": {},
   "outputs": [],
   "source": [
    "from sklearn.linear_model import LogisticRegression"
   ]
  },
  {
   "cell_type": "code",
   "execution_count": 219,
   "metadata": {},
   "outputs": [
    {
     "data": {
      "text/plain": [
       "LogisticRegression(C=1.0, class_weight=None, dual=False, fit_intercept=True,\n",
       "          intercept_scaling=1, max_iter=100, multi_class='warn',\n",
       "          n_jobs=None, penalty='l2', random_state=None, solver='warn',\n",
       "          tol=0.0001, verbose=0, warm_start=False)"
      ]
     },
     "execution_count": 219,
     "metadata": {},
     "output_type": "execute_result"
    }
   ],
   "source": [
    "logreg = LogisticRegression()\n",
    "logreg.fit(os_data_X,os_data_y)"
   ]
  },
  {
   "cell_type": "code",
   "execution_count": 37,
   "metadata": {},
   "outputs": [
    {
     "name": "stdout",
     "output_type": "stream",
     "text": [
      "Accuracy of logistic regression classifier on test set: 0.94\n"
     ]
    }
   ],
   "source": [
    "y_pred = logreg.predict(X_test)\n",
    "print('Accuracy of logistic regression classifier on test set: {:.2f}'.format(logreg.score(X_test, y_test)))"
   ]
  },
  {
   "cell_type": "code",
   "execution_count": 221,
   "metadata": {},
   "outputs": [
    {
     "name": "stdout",
     "output_type": "stream",
     "text": [
      "Accuracy of logistic regression classifier on test set: 0.93\n"
     ]
    }
   ],
   "source": [
    "print('Accuracy of logistic regression classifier on test set: {:.2f}'.format(logreg.score(X_train, y_train)))"
   ]
  },
  {
   "cell_type": "code",
   "execution_count": 38,
   "metadata": {},
   "outputs": [
    {
     "name": "stdout",
     "output_type": "stream",
     "text": [
      "[[14943     0     6    38]\n",
      " [    0  8998     3    19]\n",
      " [   16     6  4617  1359]\n",
      " [    2     1   655  2337]]\n"
     ]
    }
   ],
   "source": [
    "from sklearn.metrics import confusion_matrix\n",
    "confusion_matrix = confusion_matrix(y_test, y_pred)\n",
    "print(confusion_matrix)"
   ]
  },
  {
   "cell_type": "code",
   "execution_count": 39,
   "metadata": {},
   "outputs": [
    {
     "name": "stdout",
     "output_type": "stream",
     "text": [
      "              precision    recall  f1-score   support\n",
      "\n",
      "           1       1.00      1.00      1.00     14987\n",
      "           2       1.00      1.00      1.00      9020\n",
      "           3       0.87      0.77      0.82      5998\n",
      "           4       0.62      0.78      0.69      2995\n",
      "\n",
      "   micro avg       0.94      0.94      0.94     33000\n",
      "   macro avg       0.87      0.89      0.88     33000\n",
      "weighted avg       0.94      0.94      0.94     33000\n",
      "\n"
     ]
    }
   ],
   "source": [
    "from sklearn.metrics import classification_report\n",
    "print(classification_report(y_test, y_pred))"
   ]
  },
  {
   "cell_type": "markdown",
   "metadata": {},
   "source": [
    "### SVM"
   ]
  },
  {
   "cell_type": "code",
   "execution_count": 40,
   "metadata": {},
   "outputs": [],
   "source": [
    "from sklearn import svm"
   ]
  },
  {
   "cell_type": "code",
   "execution_count": 222,
   "metadata": {},
   "outputs": [
    {
     "data": {
      "text/plain": [
       "SVC(C=1.0, cache_size=200, class_weight=None, coef0=0.0,\n",
       "  decision_function_shape='ovr', degree=3, gamma='auto_deprecated',\n",
       "  kernel='linear', max_iter=-1, probability=False, random_state=None,\n",
       "  shrinking=True, tol=0.001, verbose=False)"
      ]
     },
     "execution_count": 222,
     "metadata": {},
     "output_type": "execute_result"
    }
   ],
   "source": [
    "svmModel= svm.SVC(kernel='linear')\n",
    "svmModel.fit(os_data_X,os_data_y)"
   ]
  },
  {
   "cell_type": "code",
   "execution_count": 42,
   "metadata": {},
   "outputs": [
    {
     "name": "stdout",
     "output_type": "stream",
     "text": [
      "Accuracy of SVM classifier on test set: 0.94\n"
     ]
    }
   ],
   "source": [
    "y_pred = svmModel.predict(X_test)\n",
    "print('Accuracy of SVM classifier on test set: {:.2f}'.format(svmModel.score(X_test, y_test)))"
   ]
  },
  {
   "cell_type": "code",
   "execution_count": 44,
   "metadata": {},
   "outputs": [
    {
     "name": "stdout",
     "output_type": "stream",
     "text": [
      "Accuracy of SVM classifier on train set: 0.94\n"
     ]
    }
   ],
   "source": [
    "print('Accuracy of SVM classifier on train set: {:.2f}'.format(svmModel.score(X_train, y_train)))"
   ]
  },
  {
   "cell_type": "code",
   "execution_count": 43,
   "metadata": {},
   "outputs": [
    {
     "name": "stdout",
     "output_type": "stream",
     "text": [
      "              precision    recall  f1-score   support\n",
      "\n",
      "           1       1.00      1.00      1.00     14987\n",
      "           2       1.00      1.00      1.00      9020\n",
      "           3       0.89      0.78      0.83      5998\n",
      "           4       0.65      0.80      0.72      2995\n",
      "\n",
      "   micro avg       0.94      0.94      0.94     33000\n",
      "   macro avg       0.88      0.90      0.89     33000\n",
      "weighted avg       0.95      0.94      0.94     33000\n",
      "\n"
     ]
    }
   ],
   "source": [
    "print(classification_report(y_test, y_pred))"
   ]
  },
  {
   "cell_type": "markdown",
   "metadata": {},
   "source": [
    "### XGBoost"
   ]
  },
  {
   "cell_type": "code",
   "execution_count": 45,
   "metadata": {},
   "outputs": [],
   "source": [
    "from xgboost import XGBClassifier"
   ]
  },
  {
   "cell_type": "code",
   "execution_count": 223,
   "metadata": {},
   "outputs": [
    {
     "data": {
      "text/plain": [
       "XGBClassifier(base_score=0.5, booster='gbtree', colsample_bylevel=1,\n",
       "       colsample_bytree=1, gamma=0, learning_rate=0.1, max_delta_step=0,\n",
       "       max_depth=3, min_child_weight=1, missing=None, n_estimators=100,\n",
       "       n_jobs=1, nthread=None, objective='multi:softprob', random_state=0,\n",
       "       reg_alpha=0, reg_lambda=1, scale_pos_weight=1, seed=None,\n",
       "       silent=True, subsample=1)"
      ]
     },
     "execution_count": 223,
     "metadata": {},
     "output_type": "execute_result"
    }
   ],
   "source": [
    "modelXG = XGBClassifier()\n",
    "modelXG.fit(os_data_X,os_data_y)"
   ]
  },
  {
   "cell_type": "code",
   "execution_count": 47,
   "metadata": {},
   "outputs": [
    {
     "name": "stdout",
     "output_type": "stream",
     "text": [
      "Accuracy: 96.79%\n"
     ]
    }
   ],
   "source": [
    "from sklearn.metrics import accuracy_score\n",
    "y_pred = modelXG.predict(X_test)\n",
    "predictions = [round(value) for value in y_pred]\n",
    "accuracy = accuracy_score(y_test, predictions)\n",
    "print(\"Accuracy: %.2f%%\" % (accuracy * 100.0))"
   ]
  },
  {
   "cell_type": "code",
   "execution_count": 224,
   "metadata": {},
   "outputs": [
    {
     "name": "stdout",
     "output_type": "stream",
     "text": [
      "Accuracy: 96.92%\n"
     ]
    }
   ],
   "source": [
    "from sklearn.metrics import accuracy_score\n",
    "y_pred = modelXG.predict(X_train)\n",
    "predictions = [round(value) for value in y_pred]\n",
    "accuracy = accuracy_score(y_train, predictions)\n",
    "print(\"Accuracy: %.2f%%\" % (accuracy * 100.0))"
   ]
  },
  {
   "cell_type": "code",
   "execution_count": 48,
   "metadata": {},
   "outputs": [
    {
     "data": {
      "text/plain": [
       "0.96837357974149263"
      ]
     },
     "execution_count": 48,
     "metadata": {},
     "output_type": "execute_result"
    }
   ],
   "source": [
    "from sklearn.metrics import f1_score\n",
    "f1_score(y_test, y_pred, average='weighted')  "
   ]
  },
  {
   "cell_type": "markdown",
   "metadata": {},
   "source": [
    "### Drawing Plot Importance Graph :\n",
    "\n",
    "#### This Shows us that I1 is most important feature of all. Wow !!!"
   ]
  },
  {
   "cell_type": "code",
   "execution_count": 50,
   "metadata": {},
   "outputs": [
    {
     "data": {
      "text/plain": [
       "<matplotlib.axes._subplots.AxesSubplot at 0x7fc658450890>"
      ]
     },
     "execution_count": 50,
     "metadata": {},
     "output_type": "execute_result"
    },
    {
     "data": {
      "image/png": "[encoded data removed]",
      "text/plain": [
       "<Figure size 432x288 with 1 Axes>"
      ]
     },
     "metadata": {},
     "output_type": "display_data"
    }
   ],
   "source": [
    "from xgboost import plot_importance\n",
    "plot_importance(modelXG)"
   ]
  },
  {
   "cell_type": "markdown",
   "metadata": {},
   "source": [
    "## Till Now we have done visualization , Preprocessing , Trained model and seen their performance. But One Thing we have left :\n",
    "\n",
    "### Seeing the Outliers : \n",
    "\n",
    "### We will draw Box Plot to see outliers are present or not.\n",
    "-----------------------------------------------------------------------------------\n",
    "\n",
    "\n",
    "\n",
    "### Observations : \n",
    "---------------------------------------------------\n",
    "#### X1 , X2 , X3 , X4 , X5 , X6 , I6 contains Outliers."
   ]
  },
  {
   "cell_type": "code",
   "execution_count": 51,
   "metadata": {},
   "outputs": [
    {
     "data": {
      "text/plain": [
       "<matplotlib.axes._subplots.AxesSubplot at 0x7fc659315d50>"
      ]
     },
     "execution_count": 51,
     "metadata": {},
     "output_type": "execute_result"
    },
    {
     "data": {
      "image/png": "[encoded data removed]",
      "text/plain": [
       "<Figure size 432x288 with 1 Axes>"
      ]
     },
     "metadata": {},
     "output_type": "display_data"
    }
   ],
   "source": [
    "sns.boxplot(x=x['X1'])"
   ]
  },
  {
   "cell_type": "code",
   "execution_count": 64,
   "metadata": {},
   "outputs": [
    {
     "data": {
      "text/plain": [
       "<matplotlib.axes._subplots.AxesSubplot at 0x7fc65725e990>"
      ]
     },
     "execution_count": 64,
     "metadata": {},
     "output_type": "execute_result"
    },
    {
     "data": {
      "image/png": "[encoded data removed]",
      "text/plain": [
       "<Figure size 432x288 with 1 Axes>"
      ]
     },
     "metadata": {},
     "output_type": "display_data"
    }
   ],
   "source": [
    "sns.boxplot(x=x['X2'])"
   ]
  },
  {
   "cell_type": "code",
   "execution_count": 65,
   "metadata": {},
   "outputs": [
    {
     "data": {
      "text/plain": [
       "<matplotlib.axes._subplots.AxesSubplot at 0x7fc659315d90>"
      ]
     },
     "execution_count": 65,
     "metadata": {},
     "output_type": "execute_result"
    },
    {
     "data": {
      "image/png": "[encoded data removed]",
      "text/plain": [
       "<Figure size 432x288 with 1 Axes>"
      ]
     },
     "metadata": {},
     "output_type": "display_data"
    }
   ],
   "source": [
    "sns.boxplot(x=x['X3'])"
   ]
  },
  {
   "cell_type": "code",
   "execution_count": 66,
   "metadata": {},
   "outputs": [
    {
     "data": {
      "text/plain": [
       "<matplotlib.axes._subplots.AxesSubplot at 0x7fc657d0f110>"
      ]
     },
     "execution_count": 66,
     "metadata": {},
     "output_type": "execute_result"
    },
    {
     "data": {
      "image/png": "[encoded data removed]",
      "text/plain": [
       "<Figure size 432x288 with 1 Axes>"
      ]
     },
     "metadata": {},
     "output_type": "display_data"
    }
   ],
   "source": [
    "sns.boxplot(x=x['X4'])"
   ]
  },
  {
   "cell_type": "code",
   "execution_count": 67,
   "metadata": {},
   "outputs": [
    {
     "data": {
      "text/plain": [
       "<matplotlib.axes._subplots.AxesSubplot at 0x7fc657cd3c10>"
      ]
     },
     "execution_count": 67,
     "metadata": {},
     "output_type": "execute_result"
    },
    {
     "data": {
      "image/png": "[encoded data removed]",
      "text/plain": [
       "<Figure size 432x288 with 1 Axes>"
      ]
     },
     "metadata": {},
     "output_type": "display_data"
    }
   ],
   "source": [
    "sns.boxplot(x=x['X5'])"
   ]
  },
  {
   "cell_type": "code",
   "execution_count": 68,
   "metadata": {},
   "outputs": [
    {
     "data": {
      "text/plain": [
       "<matplotlib.axes._subplots.AxesSubplot at 0x7fc657c38f90>"
      ]
     },
     "execution_count": 68,
     "metadata": {},
     "output_type": "execute_result"
    },
    {
     "data": {
      "image/png": "[encoded data removed]",
      "text/plain": [
       "<Figure size 432x288 with 1 Axes>"
      ]
     },
     "metadata": {},
     "output_type": "display_data"
    }
   ],
   "source": [
    "sns.boxplot(x=x['X6'])"
   ]
  },
  {
   "cell_type": "code",
   "execution_count": 69,
   "metadata": {},
   "outputs": [
    {
     "data": {
      "text/plain": [
       "<matplotlib.axes._subplots.AxesSubplot at 0x7fc657c1cd90>"
      ]
     },
     "execution_count": 69,
     "metadata": {},
     "output_type": "execute_result"
    },
    {
     "data": {
      "image/png": "[encoded data removed]",
      "text/plain": [
       "<Figure size 432x288 with 1 Axes>"
      ]
     },
     "metadata": {},
     "output_type": "display_data"
    }
   ],
   "source": [
    "sns.boxplot(x=x['I1'])"
   ]
  },
  {
   "cell_type": "code",
   "execution_count": 70,
   "metadata": {},
   "outputs": [
    {
     "data": {
      "text/plain": [
       "<matplotlib.axes._subplots.AxesSubplot at 0x7fc657b8e810>"
      ]
     },
     "execution_count": 70,
     "metadata": {},
     "output_type": "execute_result"
    },
    {
     "data": {
      "image/png": "[encoded data removed]",
      "text/plain": [
       "<Figure size 432x288 with 1 Axes>"
      ]
     },
     "metadata": {},
     "output_type": "display_data"
    }
   ],
   "source": [
    "sns.boxplot(x=x['I2'])"
   ]
  },
  {
   "cell_type": "code",
   "execution_count": 71,
   "metadata": {},
   "outputs": [
    {
     "data": {
      "text/plain": [
       "<matplotlib.axes._subplots.AxesSubplot at 0x7fc6572359d0>"
      ]
     },
     "execution_count": 71,
     "metadata": {},
     "output_type": "execute_result"
    },
    {
     "data": {
      "image/png": "[encoded data removed]",
      "text/plain": [
       "<Figure size 432x288 with 1 Axes>"
      ]
     },
     "metadata": {},
     "output_type": "display_data"
    }
   ],
   "source": [
    "sns.boxplot(x=x['I3'])"
   ]
  },
  {
   "cell_type": "code",
   "execution_count": 72,
   "metadata": {},
   "outputs": [
    {
     "data": {
      "text/plain": [
       "<matplotlib.axes._subplots.AxesSubplot at 0x7fc657b20f50>"
      ]
     },
     "execution_count": 72,
     "metadata": {},
     "output_type": "execute_result"
    },
    {
     "data": {
      "image/png": "[encoded data removed]",
      "text/plain": [
       "<Figure size 432x288 with 1 Axes>"
      ]
     },
     "metadata": {},
     "output_type": "display_data"
    }
   ],
   "source": [
    "sns.boxplot(x=x['I4'])"
   ]
  },
  {
   "cell_type": "code",
   "execution_count": 73,
   "metadata": {},
   "outputs": [
    {
     "data": {
      "text/plain": [
       "<matplotlib.axes._subplots.AxesSubplot at 0x7fc657a938d0>"
      ]
     },
     "execution_count": 73,
     "metadata": {},
     "output_type": "execute_result"
    },
    {
     "data": {
      "image/png": "[encoded data removed]",
      "text/plain": [
       "<Figure size 432x288 with 1 Axes>"
      ]
     },
     "metadata": {},
     "output_type": "display_data"
    }
   ],
   "source": [
    "sns.boxplot(x=x['I5'])"
   ]
  },
  {
   "cell_type": "code",
   "execution_count": 74,
   "metadata": {},
   "outputs": [
    {
     "data": {
      "text/plain": [
       "<matplotlib.axes._subplots.AxesSubplot at 0x7fc657ba5510>"
      ]
     },
     "execution_count": 74,
     "metadata": {},
     "output_type": "execute_result"
    },
    {
     "data": {
      "image/png": "[encoded data removed]",
      "text/plain": [
       "<Figure size 432x288 with 1 Axes>"
      ]
     },
     "metadata": {},
     "output_type": "display_data"
    }
   ],
   "source": [
    "sns.boxplot(x=x['I6'])"
   ]
  },
  {
   "cell_type": "markdown",
   "metadata": {},
   "source": [
    "### Calculate IQR (Inter Quartile Range) for each features"
   ]
  },
  {
   "cell_type": "code",
   "execution_count": 251,
   "metadata": {},
   "outputs": [
    {
     "name": "stdout",
     "output_type": "stream",
     "text": [
      "X1    1.230310\n",
      "X2    1.301252\n",
      "X3    1.521302\n",
      "X4    1.353838\n",
      "X5    1.548037\n",
      "X6    1.323611\n",
      "I1    2.109008\n",
      "I2    2.168709\n",
      "I3    2.053542\n",
      "I4    2.079369\n",
      "I5    1.734665\n",
      "I6    1.594675\n",
      "dtype: float64\n"
     ]
    }
   ],
   "source": [
    "Q1 = x.quantile(0.25)\n",
    "Q3 = x.quantile(0.75)\n",
    "IQR = Q3 - Q1\n",
    "print(IQR)"
   ]
  },
  {
   "cell_type": "code",
   "execution_count": 252,
   "metadata": {},
   "outputs": [
    {
     "name": "stdout",
     "output_type": "stream",
     "text": [
      "No. of Outliers present : 2975\n"
     ]
    }
   ],
   "source": [
    "print (\"No. of Outliers present : \" + str(len(x) - (~((x < (Q1 - 1.5 * IQR)) |(x > (Q3 + 1.5 * IQR))).any(axis=1)).sum()))"
   ]
  },
  {
   "cell_type": "markdown",
   "metadata": {},
   "source": [
    "### Removing the outliers present "
   ]
  },
  {
   "cell_type": "code",
   "execution_count": 253,
   "metadata": {},
   "outputs": [],
   "source": [
    "xOut = x[~((x < (Q1 - 1.5 * IQR)) |(x > (Q3 + 1.5 * IQR))).any(axis=1)]\n",
    "yOut = y[~((x < (Q1 - 1.5 * IQR)) |(x > (Q3 + 1.5 * IQR))).any(axis=1)]"
   ]
  },
  {
   "cell_type": "code",
   "execution_count": 254,
   "metadata": {},
   "outputs": [
    {
     "data": {
      "text/plain": [
       "(107025, 12)"
      ]
     },
     "execution_count": 254,
     "metadata": {},
     "output_type": "execute_result"
    }
   ],
   "source": [
    "xOut.shape"
   ]
  },
  {
   "cell_type": "code",
   "execution_count": 255,
   "metadata": {},
   "outputs": [
    {
     "data": {
      "text/html": [
       "<div>\n",
       "<style>\n",
       "    .dataframe thead tr:only-child th {\n",
       "        text-align: right;\n",
       "    }\n",
       "\n",
       "    .dataframe thead th {\n",
       "        text-align: left;\n",
       "    }\n",
       "\n",
       "    .dataframe tbody tr th {\n",
       "        vertical-align: top;\n",
       "    }\n",
       "</style>\n",
       "<table border=\"1\" class=\"dataframe\">\n",
       "  <thead>\n",
       "    <tr style=\"text-align: right;\">\n",
       "      <th></th>\n",
       "      <th>X1</th>\n",
       "      <th>X2</th>\n",
       "      <th>X3</th>\n",
       "      <th>X4</th>\n",
       "      <th>X5</th>\n",
       "      <th>X6</th>\n",
       "      <th>I1</th>\n",
       "      <th>I2</th>\n",
       "      <th>I3</th>\n",
       "      <th>I4</th>\n",
       "      <th>I5</th>\n",
       "      <th>I6</th>\n",
       "    </tr>\n",
       "  </thead>\n",
       "  <tbody>\n",
       "    <tr>\n",
       "      <th>0</th>\n",
       "      <td>-0.426805</td>\n",
       "      <td>-1.037396</td>\n",
       "      <td>-1.036999</td>\n",
       "      <td>-1.781825</td>\n",
       "      <td>-1.000213</td>\n",
       "      <td>-0.783465</td>\n",
       "      <td>0.617036</td>\n",
       "      <td>-0.707535</td>\n",
       "      <td>-0.086081</td>\n",
       "      <td>0.287800</td>\n",
       "      <td>0.060487</td>\n",
       "      <td>0.356264</td>\n",
       "    </tr>\n",
       "    <tr>\n",
       "      <th>1</th>\n",
       "      <td>-0.398790</td>\n",
       "      <td>-1.054393</td>\n",
       "      <td>-1.053310</td>\n",
       "      <td>-1.969257</td>\n",
       "      <td>-1.069270</td>\n",
       "      <td>-0.816085</td>\n",
       "      <td>0.455133</td>\n",
       "      <td>-0.616705</td>\n",
       "      <td>-0.251027</td>\n",
       "      <td>0.075811</td>\n",
       "      <td>-0.128625</td>\n",
       "      <td>0.430071</td>\n",
       "    </tr>\n",
       "    <tr>\n",
       "      <th>2</th>\n",
       "      <td>-0.585554</td>\n",
       "      <td>-1.186596</td>\n",
       "      <td>-1.137826</td>\n",
       "      <td>-2.261940</td>\n",
       "      <td>-1.157894</td>\n",
       "      <td>-0.871288</td>\n",
       "      <td>0.452135</td>\n",
       "      <td>-0.600443</td>\n",
       "      <td>-0.478381</td>\n",
       "      <td>-0.015812</td>\n",
       "      <td>-0.060210</td>\n",
       "      <td>0.405715</td>\n",
       "    </tr>\n",
       "    <tr>\n",
       "      <th>3</th>\n",
       "      <td>-0.587889</td>\n",
       "      <td>-1.126160</td>\n",
       "      <td>-1.106689</td>\n",
       "      <td>-1.931770</td>\n",
       "      <td>-1.061214</td>\n",
       "      <td>-0.822358</td>\n",
       "      <td>0.814042</td>\n",
       "      <td>-0.926948</td>\n",
       "      <td>-0.115153</td>\n",
       "      <td>0.499814</td>\n",
       "      <td>0.277127</td>\n",
       "      <td>0.458567</td>\n",
       "    </tr>\n",
       "    <tr>\n",
       "      <th>4</th>\n",
       "      <td>-0.580885</td>\n",
       "      <td>-1.056282</td>\n",
       "      <td>-1.066654</td>\n",
       "      <td>-1.486258</td>\n",
       "      <td>-0.948420</td>\n",
       "      <td>-0.764646</td>\n",
       "      <td>0.961374</td>\n",
       "      <td>-1.106528</td>\n",
       "      <td>0.227060</td>\n",
       "      <td>0.765678</td>\n",
       "      <td>0.420315</td>\n",
       "      <td>0.562404</td>\n",
       "    </tr>\n",
       "  </tbody>\n",
       "</table>\n",
       "</div>"
      ],
      "text/plain": [
       "         X1        X2        X3        X4        X5        X6        I1  \\\n",
       "0 -0.426805 -1.037396 -1.036999 -1.781825 -1.000213 -0.783465  0.617036   \n",
       "1 -0.398790 -1.054393 -1.053310 -1.969257 -1.069270 -0.816085  0.455133   \n",
       "2 -0.585554 -1.186596 -1.137826 -2.261940 -1.157894 -0.871288  0.452135   \n",
       "3 -0.587889 -1.126160 -1.106689 -1.931770 -1.061214 -0.822358  0.814042   \n",
       "4 -0.580885 -1.056282 -1.066654 -1.486258 -0.948420 -0.764646  0.961374   \n",
       "\n",
       "         I2        I3        I4        I5        I6  \n",
       "0 -0.707535 -0.086081  0.287800  0.060487  0.356264  \n",
       "1 -0.616705 -0.251027  0.075811 -0.128625  0.430071  \n",
       "2 -0.600443 -0.478381 -0.015812 -0.060210  0.405715  \n",
       "3 -0.926948 -0.115153  0.499814  0.277127  0.458567  \n",
       "4 -1.106528  0.227060  0.765678  0.420315  0.562404  "
      ]
     },
     "execution_count": 255,
     "metadata": {},
     "output_type": "execute_result"
    }
   ],
   "source": [
    "xOut.head()"
   ]
  },
  {
   "cell_type": "code",
   "execution_count": 91,
   "metadata": {},
   "outputs": [
    {
     "data": {
      "image/png": "[encoded data removed]",
      "text/plain": [
       "<Figure size 432x288 with 1 Axes>"
      ]
     },
     "metadata": {},
     "output_type": "display_data"
    }
   ],
   "source": [
    "ax = sns.countplot(yOut,label = \"Count\")"
   ]
  },
  {
   "cell_type": "markdown",
   "metadata": {},
   "source": [
    "## Now Dataset is cleaned from Outliers.\n",
    "\n",
    "## Its Time to train the model and see their performance on this dataset.\n",
    "\n",
    "---------------------------------------------------------------------------------------------\n",
    "\n",
    "\n",
    "\n",
    "### Observations : \n",
    "---------------------------------------------------------------------------------------------\n",
    "\n",
    "#### We find out that there is an increment in the model performance after removing the outliers. Nice !!\n",
    "\n",
    "#### Logistic Regression : \n",
    " \n",
    " - Accuracy :   Training Set ( 94% ) and Testing Set( 94% )\n",
    " - Precision(weighted) : Testing Set ( 0.95 )\n",
    " - Recall(weighted) : Testing Set ( 0.94 )\n",
    " - F1 Score(weighted) : Testing Set ( 0.94 )\n",
    "\n",
    "\n",
    "#### SVM : \n",
    "\n",
    " - Accuracy : Training Set ( 94% ) and Testing Set( 94% )\n",
    " - Precision(weighted) : Testing Set( 0.95 )\n",
    " - Recall(weighted) : Testing Set( 0.94 )\n",
    " - F1 Score(weighted) : Testing Set( 0.95 )\n",
    "\n",
    "\n",
    "#### XGBoost : \n",
    "\n",
    " - Accuracy : Training Set ( 97.10% ) and Testing Set( 96.87% )\n",
    " - F1 Score(weighted) : Testing Set( 0.9691 )\n"
   ]
  },
  {
   "cell_type": "code",
   "execution_count": 132,
   "metadata": {},
   "outputs": [
    {
     "data": {
      "text/html": [
       "<div>\n",
       "<style>\n",
       "    .dataframe thead tr:only-child th {\n",
       "        text-align: right;\n",
       "    }\n",
       "\n",
       "    .dataframe thead th {\n",
       "        text-align: left;\n",
       "    }\n",
       "\n",
       "    .dataframe tbody tr th {\n",
       "        vertical-align: top;\n",
       "    }\n",
       "</style>\n",
       "<table border=\"1\" class=\"dataframe\">\n",
       "  <thead>\n",
       "    <tr style=\"text-align: right;\">\n",
       "      <th></th>\n",
       "      <th>X1</th>\n",
       "      <th>X2</th>\n",
       "      <th>X3</th>\n",
       "      <th>X4</th>\n",
       "      <th>X5</th>\n",
       "      <th>X6</th>\n",
       "      <th>I1</th>\n",
       "      <th>I2</th>\n",
       "      <th>I3</th>\n",
       "      <th>I4</th>\n",
       "      <th>I5</th>\n",
       "      <th>I6</th>\n",
       "    </tr>\n",
       "  </thead>\n",
       "  <tbody>\n",
       "    <tr>\n",
       "      <th>0</th>\n",
       "      <td>-0.426805</td>\n",
       "      <td>-1.037396</td>\n",
       "      <td>-1.036999</td>\n",
       "      <td>-1.781825</td>\n",
       "      <td>-1.000213</td>\n",
       "      <td>-0.783465</td>\n",
       "      <td>0.617036</td>\n",
       "      <td>-0.707535</td>\n",
       "      <td>-0.086081</td>\n",
       "      <td>0.287800</td>\n",
       "      <td>0.060487</td>\n",
       "      <td>0.356264</td>\n",
       "    </tr>\n",
       "    <tr>\n",
       "      <th>1</th>\n",
       "      <td>-0.398790</td>\n",
       "      <td>-1.054393</td>\n",
       "      <td>-1.053310</td>\n",
       "      <td>-1.969257</td>\n",
       "      <td>-1.069270</td>\n",
       "      <td>-0.816085</td>\n",
       "      <td>0.455133</td>\n",
       "      <td>-0.616705</td>\n",
       "      <td>-0.251027</td>\n",
       "      <td>0.075811</td>\n",
       "      <td>-0.128625</td>\n",
       "      <td>0.430071</td>\n",
       "    </tr>\n",
       "    <tr>\n",
       "      <th>2</th>\n",
       "      <td>-0.585554</td>\n",
       "      <td>-1.186596</td>\n",
       "      <td>-1.137826</td>\n",
       "      <td>-2.261940</td>\n",
       "      <td>-1.157894</td>\n",
       "      <td>-0.871288</td>\n",
       "      <td>0.452135</td>\n",
       "      <td>-0.600443</td>\n",
       "      <td>-0.478381</td>\n",
       "      <td>-0.015812</td>\n",
       "      <td>-0.060210</td>\n",
       "      <td>0.405715</td>\n",
       "    </tr>\n",
       "    <tr>\n",
       "      <th>3</th>\n",
       "      <td>-0.587889</td>\n",
       "      <td>-1.126160</td>\n",
       "      <td>-1.106689</td>\n",
       "      <td>-1.931770</td>\n",
       "      <td>-1.061214</td>\n",
       "      <td>-0.822358</td>\n",
       "      <td>0.814042</td>\n",
       "      <td>-0.926948</td>\n",
       "      <td>-0.115153</td>\n",
       "      <td>0.499814</td>\n",
       "      <td>0.277127</td>\n",
       "      <td>0.458567</td>\n",
       "    </tr>\n",
       "    <tr>\n",
       "      <th>4</th>\n",
       "      <td>-0.580885</td>\n",
       "      <td>-1.056282</td>\n",
       "      <td>-1.066654</td>\n",
       "      <td>-1.486258</td>\n",
       "      <td>-0.948420</td>\n",
       "      <td>-0.764646</td>\n",
       "      <td>0.961374</td>\n",
       "      <td>-1.106528</td>\n",
       "      <td>0.227060</td>\n",
       "      <td>0.765678</td>\n",
       "      <td>0.420315</td>\n",
       "      <td>0.562404</td>\n",
       "    </tr>\n",
       "  </tbody>\n",
       "</table>\n",
       "</div>"
      ],
      "text/plain": [
       "         X1        X2        X3        X4        X5        X6        I1  \\\n",
       "0 -0.426805 -1.037396 -1.036999 -1.781825 -1.000213 -0.783465  0.617036   \n",
       "1 -0.398790 -1.054393 -1.053310 -1.969257 -1.069270 -0.816085  0.455133   \n",
       "2 -0.585554 -1.186596 -1.137826 -2.261940 -1.157894 -0.871288  0.452135   \n",
       "3 -0.587889 -1.126160 -1.106689 -1.931770 -1.061214 -0.822358  0.814042   \n",
       "4 -0.580885 -1.056282 -1.066654 -1.486258 -0.948420 -0.764646  0.961374   \n",
       "\n",
       "         I2        I3        I4        I5        I6  \n",
       "0 -0.707535 -0.086081  0.287800  0.060487  0.356264  \n",
       "1 -0.616705 -0.251027  0.075811 -0.128625  0.430071  \n",
       "2 -0.600443 -0.478381 -0.015812 -0.060210  0.405715  \n",
       "3 -0.926948 -0.115153  0.499814  0.277127  0.458567  \n",
       "4 -1.106528  0.227060  0.765678  0.420315  0.562404  "
      ]
     },
     "execution_count": 132,
     "metadata": {},
     "output_type": "execute_result"
    }
   ],
   "source": [
    "xOut.head()"
   ]
  },
  {
   "cell_type": "markdown",
   "metadata": {},
   "source": [
    "### Train-Test Split"
   ]
  },
  {
   "cell_type": "code",
   "execution_count": 256,
   "metadata": {},
   "outputs": [],
   "source": [
    "from sklearn.model_selection import train_test_split\n",
    "X_train , X_test, y_train, y_test = train_test_split(xOut, yOut, test_size=0.3, random_state=0)"
   ]
  },
  {
   "cell_type": "markdown",
   "metadata": {},
   "source": [
    "### To Handle Imbalanced Distribution of Target Variable :\n",
    "\n",
    "### We fill be using oversampling technique known as SMOTE"
   ]
  },
  {
   "cell_type": "code",
   "execution_count": 257,
   "metadata": {},
   "outputs": [],
   "source": [
    "from imblearn.over_sampling import SMOTE\n",
    "\n",
    "os = SMOTE(random_state=0)\n",
    "columns = X_train.columns\n",
    "os_data_X,os_data_y=os.fit_sample(X_train, y_train)\n",
    "os_data_X = pd.DataFrame(data=os_data_X,columns=columns)\n",
    "os_data_y= pd.DataFrame(data=os_data_y,columns=['y'])"
   ]
  },
  {
   "cell_type": "markdown",
   "metadata": {},
   "source": [
    "### Logistic Regression"
   ]
  },
  {
   "cell_type": "code",
   "execution_count": 135,
   "metadata": {},
   "outputs": [],
   "source": [
    "from sklearn.linear_model import LogisticRegression"
   ]
  },
  {
   "cell_type": "code",
   "execution_count": 95,
   "metadata": {},
   "outputs": [
    {
     "data": {
      "text/plain": [
       "LogisticRegression(C=1.0, class_weight=None, dual=False, fit_intercept=True,\n",
       "          intercept_scaling=1, max_iter=100, multi_class='warn',\n",
       "          n_jobs=None, penalty='l2', random_state=None, solver='warn',\n",
       "          tol=0.0001, verbose=0, warm_start=False)"
      ]
     },
     "execution_count": 95,
     "metadata": {},
     "output_type": "execute_result"
    }
   ],
   "source": [
    "logreg = LogisticRegression()\n",
    "logreg.fit(os_data_X,os_data_y)"
   ]
  },
  {
   "cell_type": "code",
   "execution_count": 96,
   "metadata": {},
   "outputs": [
    {
     "name": "stdout",
     "output_type": "stream",
     "text": [
      "Accuracy of logistic regression classifier on test set: 0.94\n"
     ]
    }
   ],
   "source": [
    "y_pred = logreg.predict(X_test)\n",
    "print('Accuracy of logistic regression classifier on test set: {:.2f}'.format(logreg.score(X_test, y_test)))"
   ]
  },
  {
   "cell_type": "code",
   "execution_count": 97,
   "metadata": {},
   "outputs": [
    {
     "name": "stdout",
     "output_type": "stream",
     "text": [
      "Accuracy of logistic regression classifier on test set: 0.94\n"
     ]
    }
   ],
   "source": [
    "print('Accuracy of logistic regression classifier on test set: {:.2f}'.format(logreg.score(X_train, y_train)))"
   ]
  },
  {
   "cell_type": "code",
   "execution_count": 98,
   "metadata": {},
   "outputs": [
    {
     "name": "stdout",
     "output_type": "stream",
     "text": [
      "[[14862     0     7    41]\n",
      " [    0  9037     3    12]\n",
      " [   23     9  4182  1277]\n",
      " [    4     1   530  2120]]\n"
     ]
    }
   ],
   "source": [
    "from sklearn.metrics import confusion_matrix\n",
    "confusion_matrix = confusion_matrix(y_test, y_pred)\n",
    "print(confusion_matrix)"
   ]
  },
  {
   "cell_type": "code",
   "execution_count": 99,
   "metadata": {},
   "outputs": [
    {
     "name": "stdout",
     "output_type": "stream",
     "text": [
      "              precision    recall  f1-score   support\n",
      "\n",
      "           1       1.00      1.00      1.00     14910\n",
      "           2       1.00      1.00      1.00      9052\n",
      "           3       0.89      0.76      0.82      5491\n",
      "           4       0.61      0.80      0.69      2655\n",
      "\n",
      "   micro avg       0.94      0.94      0.94     32108\n",
      "   macro avg       0.87      0.89      0.88     32108\n",
      "weighted avg       0.95      0.94      0.94     32108\n",
      "\n"
     ]
    }
   ],
   "source": [
    "from sklearn.metrics import classification_report\n",
    "print(classification_report(y_test, y_pred))"
   ]
  },
  {
   "cell_type": "markdown",
   "metadata": {},
   "source": [
    "### SVM"
   ]
  },
  {
   "cell_type": "code",
   "execution_count": 100,
   "metadata": {},
   "outputs": [],
   "source": [
    "from sklearn import svm"
   ]
  },
  {
   "cell_type": "code",
   "execution_count": 101,
   "metadata": {},
   "outputs": [
    {
     "data": {
      "text/plain": [
       "SVC(C=1.0, cache_size=200, class_weight=None, coef0=0.0,\n",
       "  decision_function_shape='ovr', degree=3, gamma='auto_deprecated',\n",
       "  kernel='linear', max_iter=-1, probability=False, random_state=None,\n",
       "  shrinking=True, tol=0.001, verbose=False)"
      ]
     },
     "execution_count": 101,
     "metadata": {},
     "output_type": "execute_result"
    }
   ],
   "source": [
    "svmModel= svm.SVC(kernel='linear')\n",
    "svmModel.fit(os_data_X,os_data_y)"
   ]
  },
  {
   "cell_type": "code",
   "execution_count": 103,
   "metadata": {},
   "outputs": [
    {
     "name": "stdout",
     "output_type": "stream",
     "text": [
      "Accuracy of logistic regression classifier on test set: 0.94\n"
     ]
    }
   ],
   "source": [
    "y_pred = svmModel.predict(X_test)\n",
    "print('Accuracy of logistic regression classifier on test set: {:.2f}'.format(svmModel.score(X_test, y_test)))"
   ]
  },
  {
   "cell_type": "code",
   "execution_count": 104,
   "metadata": {},
   "outputs": [
    {
     "name": "stdout",
     "output_type": "stream",
     "text": [
      "Accuracy of logistic regression classifier on test set: 0.94\n"
     ]
    }
   ],
   "source": [
    "print('Accuracy of logistic regression classifier on test set: {:.2f}'.format(svmModel.score(X_train, y_train)))"
   ]
  },
  {
   "cell_type": "code",
   "execution_count": 105,
   "metadata": {},
   "outputs": [
    {
     "name": "stdout",
     "output_type": "stream",
     "text": [
      "[[14863     0    20    27]\n",
      " [    0  9052     0     0]\n",
      " [   28     2  4267  1194]\n",
      " [    9     0   491  2155]]\n"
     ]
    }
   ],
   "source": [
    "from sklearn.metrics import confusion_matrix\n",
    "confusion_matrix = confusion_matrix(y_test, y_pred)\n",
    "print(confusion_matrix)"
   ]
  },
  {
   "cell_type": "code",
   "execution_count": 106,
   "metadata": {},
   "outputs": [
    {
     "name": "stdout",
     "output_type": "stream",
     "text": [
      "              precision    recall  f1-score   support\n",
      "\n",
      "           1       1.00      1.00      1.00     14910\n",
      "           2       1.00      1.00      1.00      9052\n",
      "           3       0.89      0.78      0.83      5491\n",
      "           4       0.64      0.81      0.71      2655\n",
      "\n",
      "   micro avg       0.94      0.94      0.94     32108\n",
      "   macro avg       0.88      0.90      0.89     32108\n",
      "weighted avg       0.95      0.94      0.95     32108\n",
      "\n"
     ]
    }
   ],
   "source": [
    "from sklearn.metrics import classification_report\n",
    "print(classification_report(y_test, y_pred))"
   ]
  },
  {
   "cell_type": "markdown",
   "metadata": {},
   "source": [
    "### XGBoost"
   ]
  },
  {
   "cell_type": "code",
   "execution_count": 107,
   "metadata": {},
   "outputs": [],
   "source": [
    "from xgboost import XGBClassifier"
   ]
  },
  {
   "cell_type": "code",
   "execution_count": 108,
   "metadata": {},
   "outputs": [
    {
     "data": {
      "text/plain": [
       "XGBClassifier(base_score=0.5, booster='gbtree', colsample_bylevel=1,\n",
       "       colsample_bytree=1, gamma=0, learning_rate=0.1, max_delta_step=0,\n",
       "       max_depth=3, min_child_weight=1, missing=None, n_estimators=100,\n",
       "       n_jobs=1, nthread=None, objective='multi:softprob', random_state=0,\n",
       "       reg_alpha=0, reg_lambda=1, scale_pos_weight=1, seed=None,\n",
       "       silent=True, subsample=1)"
      ]
     },
     "execution_count": 108,
     "metadata": {},
     "output_type": "execute_result"
    }
   ],
   "source": [
    "modelXG = XGBClassifier()\n",
    "modelXG.fit(os_data_X,os_data_y)"
   ]
  },
  {
   "cell_type": "code",
   "execution_count": 109,
   "metadata": {},
   "outputs": [
    {
     "name": "stdout",
     "output_type": "stream",
     "text": [
      " Testing Accuracy: 96.87%\n"
     ]
    }
   ],
   "source": [
    "from sklearn.metrics import accuracy_score\n",
    "y_pred = modelXG.predict(X_test)\n",
    "predictions = [round(value) for value in y_pred]\n",
    "accuracy = accuracy_score(y_test, predictions)\n",
    "print(\" Testing Accuracy: %.2f%%\" % (accuracy * 100.0))"
   ]
  },
  {
   "cell_type": "code",
   "execution_count": 110,
   "metadata": {},
   "outputs": [
    {
     "name": "stdout",
     "output_type": "stream",
     "text": [
      "Training Accuracy: 97.10%\n"
     ]
    }
   ],
   "source": [
    "from sklearn.metrics import accuracy_score\n",
    "y_pred = modelXG.predict(X_train)\n",
    "predictions = [round(value) for value in y_pred]\n",
    "accuracy = accuracy_score(y_train, predictions)\n",
    "print(\"Training Accuracy: %.2f%%\" % (accuracy * 100.0))"
   ]
  },
  {
   "cell_type": "code",
   "execution_count": 112,
   "metadata": {},
   "outputs": [
    {
     "data": {
      "text/plain": [
       "0.96913237140209663"
      ]
     },
     "execution_count": 112,
     "metadata": {},
     "output_type": "execute_result"
    }
   ],
   "source": [
    "from sklearn.metrics import f1_score\n",
    "y_pred = modelXG.predict(X_test)\n",
    "f1_score(y_test, y_pred, average='weighted')  "
   ]
  },
  {
   "cell_type": "markdown",
   "metadata": {},
   "source": [
    "### Finally we have preprocessed the dataset appropriately and evaluated the performance of the model on the preprocessed dataset.\n",
    "\n",
    "### Now it's time to enhance the performance of our model.\n",
    "-------------------------------------------------------------------------------------------------------\n",
    "\n",
    "### We will be using very famous Ensembling Technique ( Stacking ) \n",
    "\n",
    "### Description of My Stacked Model.\n",
    "\n",
    "- It contains 2 layers.\n",
    "- First Layer consists of 3 models : Logistic Regression , SVM , GradientBoostingClassifier.\n",
    "- Second Layer consists of 1 model : XGBoost.\n",
    "\n",
    "---------------------------------------------------------------------------------------------------------\n",
    "### Observations\n",
    "---------------------------------------------------------------------------------------------------------\n",
    "#### This model outperforms previous models for this dataset.\n",
    "\n",
    "#### Accuracy : 97.14%\n",
    "#### F1 Score : 0.9717"
   ]
  },
  {
   "cell_type": "code",
   "execution_count": 195,
   "metadata": {},
   "outputs": [],
   "source": [
    "from sklearn.linear_model import LogisticRegression\n",
    "from sklearn import svm\n",
    "from xgboost import XGBClassifier\n",
    "from sklearn.model_selection import KFold\n",
    "from sklearn.ensemble import GradientBoostingClassifier"
   ]
  },
  {
   "cell_type": "code",
   "execution_count": 169,
   "metadata": {},
   "outputs": [
    {
     "data": {
      "text/plain": [
       "5"
      ]
     },
     "execution_count": 169,
     "metadata": {},
     "output_type": "execute_result"
    }
   ],
   "source": [
    "ntrain = os_data_X.shape[0]\n",
    "ntest = X_test.shape[0]\n",
    "SEED = 0 # for reproducibility\n",
    "NFOLDS = 5 # set folds for out-of-fold prediction\n",
    "kf = KFold(n_splits= NFOLDS, random_state=SEED)\n",
    "kf.get_n_splits(os_data_X)"
   ]
  },
  {
   "cell_type": "code",
   "execution_count": 179,
   "metadata": {},
   "outputs": [],
   "source": [
    "def get_oof(clf, x_train, y_train,x_test):\n",
    "    x_train = np.array(x_train)\n",
    "    y_train = np.array(y_train)\n",
    "    oof_train = np.zeros((ntrain,))\n",
    "    \n",
    "    oof_test = np.zeros((ntest,))\n",
    "    oof_test_skf = np.empty((NFOLDS, ntest))\n",
    "    for i, (train_index, test_index) in enumerate(kf.split(x_train)):\n",
    "        print(\"TRAIN:\", train_index, \"TEST:\", test_index)\n",
    "        x_tr = x_train[train_index]\n",
    "        y_tr = y_train[train_index]\n",
    "        x_te = x_train[test_index]\n",
    "        clf.fit(x_tr, y_tr)\n",
    "        oof_train[test_index] = clf.predict(x_te)\n",
    "        oof_test_skf[i, :] = clf.predict(x_test)\n",
    "        \n",
    "    oof_test[:] = oof_test_skf.mean(axis=0)\n",
    "    return oof_train.reshape(-1, 1), oof_test.reshape(-1, 1)      "
   ]
  },
  {
   "cell_type": "code",
   "execution_count": 196,
   "metadata": {},
   "outputs": [],
   "source": [
    "logreg = LogisticRegression()\n",
    "svmModel= svm.SVC(kernel='linear')\n",
    "gbc = GradientBoostingClassifier()"
   ]
  },
  {
   "cell_type": "code",
   "execution_count": 181,
   "metadata": {},
   "outputs": [
    {
     "data": {
      "text/plain": [
       "139556"
      ]
     },
     "execution_count": 181,
     "metadata": {},
     "output_type": "execute_result"
    }
   ],
   "source": [
    "len(os_data_X)"
   ]
  },
  {
   "cell_type": "code",
   "execution_count": 198,
   "metadata": {},
   "outputs": [
    {
     "name": "stdout",
     "output_type": "stream",
     "text": [
      "('TRAIN:', array([ 27912,  27913,  27914, ..., 139553, 139554, 139555]), 'TEST:', array([    0,     1,     2, ..., 27909, 27910, 27911]))\n",
      "('TRAIN:', array([     0,      1,      2, ..., 139553, 139554, 139555]), 'TEST:', array([27912, 27913, 27914, ..., 55820, 55821, 55822]))\n",
      "('TRAIN:', array([     0,      1,      2, ..., 139553, 139554, 139555]), 'TEST:', array([55823, 55824, 55825, ..., 83731, 83732, 83733]))\n",
      "('TRAIN:', array([     0,      1,      2, ..., 139553, 139554, 139555]), 'TEST:', array([ 83734,  83735,  83736, ..., 111642, 111643, 111644]))\n",
      "('TRAIN:', array([     0,      1,      2, ..., 111642, 111643, 111644]), 'TEST:', array([111645, 111646, 111647, ..., 139553, 139554, 139555]))\n",
      "('TRAIN:', array([ 27912,  27913,  27914, ..., 139553, 139554, 139555]), 'TEST:', array([    0,     1,     2, ..., 27909, 27910, 27911]))\n",
      "('TRAIN:', array([     0,      1,      2, ..., 139553, 139554, 139555]), 'TEST:', array([27912, 27913, 27914, ..., 55820, 55821, 55822]))\n",
      "('TRAIN:', array([     0,      1,      2, ..., 139553, 139554, 139555]), 'TEST:', array([55823, 55824, 55825, ..., 83731, 83732, 83733]))\n",
      "('TRAIN:', array([     0,      1,      2, ..., 139553, 139554, 139555]), 'TEST:', array([ 83734,  83735,  83736, ..., 111642, 111643, 111644]))\n",
      "('TRAIN:', array([     0,      1,      2, ..., 111642, 111643, 111644]), 'TEST:', array([111645, 111646, 111647, ..., 139553, 139554, 139555]))\n",
      "('TRAIN:', array([ 27912,  27913,  27914, ..., 139553, 139554, 139555]), 'TEST:', array([    0,     1,     2, ..., 27909, 27910, 27911]))\n",
      "('TRAIN:', array([     0,      1,      2, ..., 139553, 139554, 139555]), 'TEST:', array([27912, 27913, 27914, ..., 55820, 55821, 55822]))\n",
      "('TRAIN:', array([     0,      1,      2, ..., 139553, 139554, 139555]), 'TEST:', array([55823, 55824, 55825, ..., 83731, 83732, 83733]))\n",
      "('TRAIN:', array([     0,      1,      2, ..., 139553, 139554, 139555]), 'TEST:', array([ 83734,  83735,  83736, ..., 111642, 111643, 111644]))\n",
      "('TRAIN:', array([     0,      1,      2, ..., 111642, 111643, 111644]), 'TEST:', array([111645, 111646, 111647, ..., 139553, 139554, 139555]))\n",
      "Training is complete\n"
     ]
    }
   ],
   "source": [
    "gb_oof_train, gb_oof_test = get_oof(gbc,os_data_X,os_data_y,X_test) # Gradient Boost Classifier\n",
    "et_oof_train, et_oof_test = get_oof(logreg,os_data_X,os_data_y,X_test) # Logistic Regression\n",
    "rf_oof_train, rf_oof_test = get_oof(svmModel,os_data_X,os_data_y,X_test) # SVM\n",
    "print(\"Training is complete\")"
   ]
  },
  {
   "cell_type": "code",
   "execution_count": 199,
   "metadata": {},
   "outputs": [],
   "source": [
    "x_train = np.concatenate(( et_oof_train, rf_oof_train,gb_oof_train), axis=1)\n",
    "x_test = np.concatenate(( et_oof_test, rf_oof_test , gb_oof_test), axis=1)"
   ]
  },
  {
   "cell_type": "code",
   "execution_count": 200,
   "metadata": {},
   "outputs": [],
   "source": [
    "gbm = XGBClassifier().fit(x_train, os_data_y)\n",
    "y_pred = gbm.predict(x_test)"
   ]
  },
  {
   "cell_type": "code",
   "execution_count": 201,
   "metadata": {},
   "outputs": [
    {
     "name": "stdout",
     "output_type": "stream",
     "text": [
      "Testing Accuracy: 97.14%\n"
     ]
    }
   ],
   "source": [
    "predictions = [round(value) for value in y_pred]\n",
    "accuracy = accuracy_score(y_test, predictions)\n",
    "print(\"Testing Accuracy: %.2f%%\" % (accuracy * 100.0))"
   ]
  },
  {
   "cell_type": "code",
   "execution_count": 202,
   "metadata": {},
   "outputs": [
    {
     "data": {
      "text/plain": [
       "0.97174490950203984"
      ]
     },
     "execution_count": 202,
     "metadata": {},
     "output_type": "execute_result"
    }
   ],
   "source": [
    "from sklearn.metrics import f1_score\n",
    "f1_score(y_test, y_pred, average='weighted') "
   ]
  },
  {
   "cell_type": "markdown",
   "metadata": {},
   "source": [
    "# Submission For Test File"
   ]
  },
  {
   "cell_type": "code",
   "execution_count": 226,
   "metadata": {},
   "outputs": [],
   "source": [
    "test = pd.read_csv('./socialcops_challenge/land_test.csv')"
   ]
  },
  {
   "cell_type": "code",
   "execution_count": 227,
   "metadata": {},
   "outputs": [
    {
     "data": {
      "text/html": [
       "<div>\n",
       "<style>\n",
       "    .dataframe thead tr:only-child th {\n",
       "        text-align: right;\n",
       "    }\n",
       "\n",
       "    .dataframe thead th {\n",
       "        text-align: left;\n",
       "    }\n",
       "\n",
       "    .dataframe tbody tr th {\n",
       "        vertical-align: top;\n",
       "    }\n",
       "</style>\n",
       "<table border=\"1\" class=\"dataframe\">\n",
       "  <thead>\n",
       "    <tr style=\"text-align: right;\">\n",
       "      <th></th>\n",
       "      <th>X1</th>\n",
       "      <th>X2</th>\n",
       "      <th>X3</th>\n",
       "      <th>X4</th>\n",
       "      <th>X5</th>\n",
       "      <th>X6</th>\n",
       "      <th>I1</th>\n",
       "      <th>I2</th>\n",
       "      <th>I3</th>\n",
       "      <th>I4</th>\n",
       "      <th>I5</th>\n",
       "      <th>I6</th>\n",
       "    </tr>\n",
       "  </thead>\n",
       "  <tbody>\n",
       "    <tr>\n",
       "      <th>0</th>\n",
       "      <td>338</td>\n",
       "      <td>554</td>\n",
       "      <td>698</td>\n",
       "      <td>1605</td>\n",
       "      <td>1752</td>\n",
       "      <td>1310</td>\n",
       "      <td>0.393834</td>\n",
       "      <td>-0.350045</td>\n",
       "      <td>1.565423</td>\n",
       "      <td>0.311659</td>\n",
       "      <td>0.304781</td>\n",
       "      <td>-0.043789</td>\n",
       "    </tr>\n",
       "    <tr>\n",
       "      <th>1</th>\n",
       "      <td>667</td>\n",
       "      <td>976</td>\n",
       "      <td>1187</td>\n",
       "      <td>1834</td>\n",
       "      <td>1958</td>\n",
       "      <td>1653</td>\n",
       "      <td>0.214167</td>\n",
       "      <td>-0.181467</td>\n",
       "      <td>1.050679</td>\n",
       "      <td>0.196439</td>\n",
       "      <td>0.164085</td>\n",
       "      <td>-0.032700</td>\n",
       "    </tr>\n",
       "    <tr>\n",
       "      <th>2</th>\n",
       "      <td>249</td>\n",
       "      <td>420</td>\n",
       "      <td>402</td>\n",
       "      <td>1635</td>\n",
       "      <td>1318</td>\n",
       "      <td>736</td>\n",
       "      <td>0.605302</td>\n",
       "      <td>-0.712650</td>\n",
       "      <td>2.268984</td>\n",
       "      <td>0.441984</td>\n",
       "      <td>0.293497</td>\n",
       "      <td>0.107348</td>\n",
       "    </tr>\n",
       "    <tr>\n",
       "      <th>3</th>\n",
       "      <td>111</td>\n",
       "      <td>348</td>\n",
       "      <td>279</td>\n",
       "      <td>1842</td>\n",
       "      <td>743</td>\n",
       "      <td>328</td>\n",
       "      <td>0.736917</td>\n",
       "      <td>-1.162062</td>\n",
       "      <td>3.074176</td>\n",
       "      <td>0.551699</td>\n",
       "      <td>0.080725</td>\n",
       "      <td>0.425145</td>\n",
       "    </tr>\n",
       "    <tr>\n",
       "      <th>4</th>\n",
       "      <td>349</td>\n",
       "      <td>559</td>\n",
       "      <td>642</td>\n",
       "      <td>1534</td>\n",
       "      <td>1544</td>\n",
       "      <td>989</td>\n",
       "      <td>0.409926</td>\n",
       "      <td>-0.406678</td>\n",
       "      <td>1.607795</td>\n",
       "      <td>0.323984</td>\n",
       "      <td>0.212753</td>\n",
       "      <td>-0.003249</td>\n",
       "    </tr>\n",
       "  </tbody>\n",
       "</table>\n",
       "</div>"
      ],
      "text/plain": [
       "    X1   X2    X3    X4    X5    X6        I1        I2        I3        I4  \\\n",
       "0  338  554   698  1605  1752  1310  0.393834 -0.350045  1.565423  0.311659   \n",
       "1  667  976  1187  1834  1958  1653  0.214167 -0.181467  1.050679  0.196439   \n",
       "2  249  420   402  1635  1318   736  0.605302 -0.712650  2.268984  0.441984   \n",
       "3  111  348   279  1842   743   328  0.736917 -1.162062  3.074176  0.551699   \n",
       "4  349  559   642  1534  1544   989  0.409926 -0.406678  1.607795  0.323984   \n",
       "\n",
       "         I5        I6  \n",
       "0  0.304781 -0.043789  \n",
       "1  0.164085 -0.032700  \n",
       "2  0.293497  0.107348  \n",
       "3  0.080725  0.425145  \n",
       "4  0.212753 -0.003249  "
      ]
     },
     "execution_count": 227,
     "metadata": {},
     "output_type": "execute_result"
    }
   ],
   "source": [
    "test.head()"
   ]
  },
  {
   "cell_type": "code",
   "execution_count": 229,
   "metadata": {},
   "outputs": [],
   "source": [
    "def standardization(d):\n",
    "    return ((d-d.mean())/d.std())"
   ]
  },
  {
   "cell_type": "code",
   "execution_count": 230,
   "metadata": {},
   "outputs": [],
   "source": [
    "test = standardization(test)"
   ]
  },
  {
   "cell_type": "code",
   "execution_count": 233,
   "metadata": {},
   "outputs": [
    {
     "data": {
      "text/plain": [
       "(2000000, 12)"
      ]
     },
     "execution_count": 233,
     "metadata": {},
     "output_type": "execute_result"
    }
   ],
   "source": [
    "test.shape"
   ]
  },
  {
   "cell_type": "markdown",
   "metadata": {},
   "source": [
    "# Note\n",
    "#### In Test File there are 20,00,000 rows which takes very much time even to load it.\n",
    "#### I will just take first 2,00,000 rows of data to make predictions. \n",
    "#### I can also use colab for this, But I start this task on my laptop so I can't shift to the colab."
   ]
  },
  {
   "cell_type": "code",
   "execution_count": 237,
   "metadata": {},
   "outputs": [],
   "source": [
    "test = test[:200000]"
   ]
  },
  {
   "cell_type": "code",
   "execution_count": 238,
   "metadata": {},
   "outputs": [
    {
     "data": {
      "text/plain": [
       "(200000, 12)"
      ]
     },
     "execution_count": 238,
     "metadata": {},
     "output_type": "execute_result"
    }
   ],
   "source": [
    "test.shape"
   ]
  },
  {
   "cell_type": "code",
   "execution_count": 239,
   "metadata": {},
   "outputs": [
    {
     "data": {
      "text/html": [
       "<div>\n",
       "<style>\n",
       "    .dataframe thead tr:only-child th {\n",
       "        text-align: right;\n",
       "    }\n",
       "\n",
       "    .dataframe thead th {\n",
       "        text-align: left;\n",
       "    }\n",
       "\n",
       "    .dataframe tbody tr th {\n",
       "        vertical-align: top;\n",
       "    }\n",
       "</style>\n",
       "<table border=\"1\" class=\"dataframe\">\n",
       "  <thead>\n",
       "    <tr style=\"text-align: right;\">\n",
       "      <th></th>\n",
       "      <th>X1</th>\n",
       "      <th>X2</th>\n",
       "      <th>X3</th>\n",
       "      <th>X4</th>\n",
       "      <th>X5</th>\n",
       "      <th>X6</th>\n",
       "      <th>I1</th>\n",
       "      <th>I2</th>\n",
       "      <th>I3</th>\n",
       "      <th>I4</th>\n",
       "      <th>I5</th>\n",
       "      <th>I6</th>\n",
       "    </tr>\n",
       "  </thead>\n",
       "  <tbody>\n",
       "    <tr>\n",
       "      <th>0</th>\n",
       "      <td>-0.563115</td>\n",
       "      <td>-0.508952</td>\n",
       "      <td>-0.063934</td>\n",
       "      <td>-0.469051</td>\n",
       "      <td>0.015694</td>\n",
       "      <td>0.255266</td>\n",
       "      <td>-0.209292</td>\n",
       "      <td>0.355950</td>\n",
       "      <td>-0.328541</td>\n",
       "      <td>-0.162519</td>\n",
       "      <td>0.608883</td>\n",
       "      <td>-0.473931</td>\n",
       "    </tr>\n",
       "    <tr>\n",
       "      <th>1</th>\n",
       "      <td>1.695183</td>\n",
       "      <td>2.128496</td>\n",
       "      <td>1.909805</td>\n",
       "      <td>0.102659</td>\n",
       "      <td>0.403796</td>\n",
       "      <td>1.007652</td>\n",
       "      <td>-1.300582</td>\n",
       "      <td>0.938480</td>\n",
       "      <td>-1.030566</td>\n",
       "      <td>-1.228765</td>\n",
       "      <td>-0.713629</td>\n",
       "      <td>-0.397269</td>\n",
       "    </tr>\n",
       "    <tr>\n",
       "      <th>2</th>\n",
       "      <td>-1.174022</td>\n",
       "      <td>-1.346436</td>\n",
       "      <td>-1.258672</td>\n",
       "      <td>-0.394154</td>\n",
       "      <td>-0.801958</td>\n",
       "      <td>-1.003828</td>\n",
       "      <td>1.075158</td>\n",
       "      <td>-0.897051</td>\n",
       "      <td>0.631001</td>\n",
       "      <td>1.043511</td>\n",
       "      <td>0.502821</td>\n",
       "      <td>0.570964</td>\n",
       "    </tr>\n",
       "    <tr>\n",
       "      <th>3</th>\n",
       "      <td>-2.121271</td>\n",
       "      <td>-1.796427</td>\n",
       "      <td>-1.755134</td>\n",
       "      <td>0.122632</td>\n",
       "      <td>-1.885252</td>\n",
       "      <td>-1.898794</td>\n",
       "      <td>1.874581</td>\n",
       "      <td>-2.450015</td>\n",
       "      <td>1.729150</td>\n",
       "      <td>2.058820</td>\n",
       "      <td>-1.497189</td>\n",
       "      <td>2.768064</td>\n",
       "    </tr>\n",
       "    <tr>\n",
       "      <th>4</th>\n",
       "      <td>-0.487609</td>\n",
       "      <td>-0.477703</td>\n",
       "      <td>-0.289966</td>\n",
       "      <td>-0.646306</td>\n",
       "      <td>-0.376176</td>\n",
       "      <td>-0.448861</td>\n",
       "      <td>-0.111547</td>\n",
       "      <td>0.160254</td>\n",
       "      <td>-0.270752</td>\n",
       "      <td>-0.048458</td>\n",
       "      <td>-0.256157</td>\n",
       "      <td>-0.193654</td>\n",
       "    </tr>\n",
       "  </tbody>\n",
       "</table>\n",
       "</div>"
      ],
      "text/plain": [
       "         X1        X2        X3        X4        X5        X6        I1  \\\n",
       "0 -0.563115 -0.508952 -0.063934 -0.469051  0.015694  0.255266 -0.209292   \n",
       "1  1.695183  2.128496  1.909805  0.102659  0.403796  1.007652 -1.300582   \n",
       "2 -1.174022 -1.346436 -1.258672 -0.394154 -0.801958 -1.003828  1.075158   \n",
       "3 -2.121271 -1.796427 -1.755134  0.122632 -1.885252 -1.898794  1.874581   \n",
       "4 -0.487609 -0.477703 -0.289966 -0.646306 -0.376176 -0.448861 -0.111547   \n",
       "\n",
       "         I2        I3        I4        I5        I6  \n",
       "0  0.355950 -0.328541 -0.162519  0.608883 -0.473931  \n",
       "1  0.938480 -1.030566 -1.228765 -0.713629 -0.397269  \n",
       "2 -0.897051  0.631001  1.043511  0.502821  0.570964  \n",
       "3 -2.450015  1.729150  2.058820 -1.497189  2.768064  \n",
       "4  0.160254 -0.270752 -0.048458 -0.256157 -0.193654  "
      ]
     },
     "execution_count": 239,
     "metadata": {},
     "output_type": "execute_result"
    }
   ],
   "source": [
    "test.head()"
   ]
  },
  {
   "cell_type": "code",
   "execution_count": 258,
   "metadata": {},
   "outputs": [],
   "source": [
    "from sklearn.linear_model import LogisticRegression\n",
    "from sklearn import svm\n",
    "from xgboost import XGBClassifier\n",
    "from sklearn.model_selection import KFold\n",
    "from sklearn.ensemble import GradientBoostingClassifier\n",
    "\n",
    "\n",
    "ntrain = os_data_X.shape[0]\n",
    "ntest = test.shape[0]\n",
    "SEED = 0 # for reproducibility\n",
    "NFOLDS = 5 # set folds for out-of-fold prediction\n",
    "kf = KFold(n_splits= NFOLDS, random_state=SEED)\n",
    "kf.get_n_splits(os_data_X)\n",
    "\n",
    "\n",
    "def get_oof(clf, x_train, y_train,x_test):\n",
    "    x_train = np.array(x_train)\n",
    "    y_train = np.array(y_train)\n",
    "    oof_train = np.zeros((ntrain,))\n",
    "    \n",
    "    oof_test = np.zeros((ntest,))\n",
    "    oof_test_skf = np.empty((NFOLDS, ntest))\n",
    "    for i, (train_index, test_index) in enumerate(kf.split(x_train)):\n",
    "        print(\"TRAIN:\", train_index, \"TEST:\", test_index)\n",
    "        x_tr = x_train[train_index]\n",
    "        y_tr = y_train[train_index]\n",
    "        x_te = x_train[test_index]\n",
    "        clf.fit(x_tr, y_tr)\n",
    "        oof_train[test_index] = clf.predict(x_te)\n",
    "        oof_test_skf[i, :] = clf.predict(x_test)\n",
    "        \n",
    "    oof_test[:] = oof_test_skf.mean(axis=0)\n",
    "    return oof_train.reshape(-1, 1), oof_test.reshape(-1, 1)      "
   ]
  },
  {
   "cell_type": "code",
   "execution_count": 259,
   "metadata": {},
   "outputs": [],
   "source": [
    "logreg = LogisticRegression()\n",
    "svmModel= svm.SVC(kernel='linear')\n",
    "gbc = GradientBoostingClassifier()"
   ]
  },
  {
   "cell_type": "code",
   "execution_count": 260,
   "metadata": {},
   "outputs": [
    {
     "name": "stdout",
     "output_type": "stream",
     "text": [
      "('TRAIN:', array([ 27912,  27913,  27914, ..., 139553, 139554, 139555]), 'TEST:', array([    0,     1,     2, ..., 27909, 27910, 27911]))\n",
      "('TRAIN:', array([     0,      1,      2, ..., 139553, 139554, 139555]), 'TEST:', array([27912, 27913, 27914, ..., 55820, 55821, 55822]))\n",
      "('TRAIN:', array([     0,      1,      2, ..., 139553, 139554, 139555]), 'TEST:', array([55823, 55824, 55825, ..., 83731, 83732, 83733]))\n",
      "('TRAIN:', array([     0,      1,      2, ..., 139553, 139554, 139555]), 'TEST:', array([ 83734,  83735,  83736, ..., 111642, 111643, 111644]))\n",
      "('TRAIN:', array([     0,      1,      2, ..., 111642, 111643, 111644]), 'TEST:', array([111645, 111646, 111647, ..., 139553, 139554, 139555]))\n",
      "('TRAIN:', array([ 27912,  27913,  27914, ..., 139553, 139554, 139555]), 'TEST:', array([    0,     1,     2, ..., 27909, 27910, 27911]))\n",
      "('TRAIN:', array([     0,      1,      2, ..., 139553, 139554, 139555]), 'TEST:', array([27912, 27913, 27914, ..., 55820, 55821, 55822]))\n",
      "('TRAIN:', array([     0,      1,      2, ..., 139553, 139554, 139555]), 'TEST:', array([55823, 55824, 55825, ..., 83731, 83732, 83733]))\n",
      "('TRAIN:', array([     0,      1,      2, ..., 139553, 139554, 139555]), 'TEST:', array([ 83734,  83735,  83736, ..., 111642, 111643, 111644]))\n",
      "('TRAIN:', array([     0,      1,      2, ..., 111642, 111643, 111644]), 'TEST:', array([111645, 111646, 111647, ..., 139553, 139554, 139555]))\n",
      "('TRAIN:', array([ 27912,  27913,  27914, ..., 139553, 139554, 139555]), 'TEST:', array([    0,     1,     2, ..., 27909, 27910, 27911]))\n",
      "('TRAIN:', array([     0,      1,      2, ..., 139553, 139554, 139555]), 'TEST:', array([27912, 27913, 27914, ..., 55820, 55821, 55822]))\n",
      "('TRAIN:', array([     0,      1,      2, ..., 139553, 139554, 139555]), 'TEST:', array([55823, 55824, 55825, ..., 83731, 83732, 83733]))\n",
      "('TRAIN:', array([     0,      1,      2, ..., 139553, 139554, 139555]), 'TEST:', array([ 83734,  83735,  83736, ..., 111642, 111643, 111644]))\n",
      "('TRAIN:', array([     0,      1,      2, ..., 111642, 111643, 111644]), 'TEST:', array([111645, 111646, 111647, ..., 139553, 139554, 139555]))\n",
      "Training is complete\n"
     ]
    }
   ],
   "source": [
    "gb_oof_train, gb_oof_test = get_oof(gbc,os_data_X,os_data_y,test) # Gradient Boost Classifier\n",
    "et_oof_train, et_oof_test = get_oof(logreg,os_data_X,os_data_y,test) # Logistic Regression\n",
    "rf_oof_train, rf_oof_test = get_oof(svmModel,os_data_X,os_data_y,test) # SVM\n",
    "print(\"Training is complete\")"
   ]
  },
  {
   "cell_type": "code",
   "execution_count": 261,
   "metadata": {},
   "outputs": [],
   "source": [
    "x_train = np.concatenate(( et_oof_train, rf_oof_train,gb_oof_train), axis=1)\n",
    "x_test = np.concatenate(( et_oof_test, rf_oof_test , gb_oof_test), axis=1)"
   ]
  },
  {
   "cell_type": "code",
   "execution_count": 262,
   "metadata": {},
   "outputs": [],
   "source": [
    "gbm = XGBClassifier().fit(x_train, os_data_y)\n",
    "y_pred = gbm.predict(x_test)"
   ]
  },
  {
   "cell_type": "code",
   "execution_count": 266,
   "metadata": {},
   "outputs": [
    {
     "data": {
      "text/plain": [
       "array([3, 2, 1, ..., 2, 3, 2])"
      ]
     },
     "execution_count": 266,
     "metadata": {},
     "output_type": "execute_result"
    }
   ],
   "source": [
    "y_pred"
   ]
  },
  {
   "cell_type": "code",
   "execution_count": 265,
   "metadata": {},
   "outputs": [],
   "source": [
    "df = test\n",
    "df['target'] = y_pred\n",
    "df.to_csv('Submit.csv' , index = False)"
   ]
  },
  {
   "cell_type": "markdown",
   "metadata": {},
   "source": [
    "# Thank You"
   ]
  }
 ],
 "metadata": {
  "kernelspec": {
   "display_name": "Python 2",
   "language": "python",
   "name": "python2"
  },
  "language_info": {
   "codemirror_mode": {
    "name": "ipython",
    "version": 2
   },
   "file_extension": ".py",
   "mimetype": "text/x-python",
   "name": "python",
   "nbconvert_exporter": "python",
   "pygments_lexer": "ipython2",
   "version": "2.7.14"
  }
 },
 "nbformat": 4,
 "nbformat_minor": 2
}
